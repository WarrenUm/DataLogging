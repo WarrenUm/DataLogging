{
 "cells": [
  {
   "cell_type": "code",
   "execution_count": 1,
   "id": "6090be5e-154e-413a-9a48-688f0140640c",
   "metadata": {},
   "outputs": [],
   "source": [
    "#add the gps data to the gps_data table"
   ]
  },
  {
   "cell_type": "code",
   "execution_count": 2,
   "id": "3d75b869-e76f-4f1b-8444-4fcabb01ea5d",
   "metadata": {},
   "outputs": [],
   "source": [
    "import sqlite3\n",
    "from sqlite3 import Error\n",
    "import pandas as pd"
   ]
  },
  {
   "cell_type": "code",
   "execution_count": 3,
   "id": "562dc0dc-2dd0-4ac6-be98-19084998537f",
   "metadata": {},
   "outputs": [],
   "source": [
    "conn = sqlite3.connect('log_data.db')"
   ]
  },
  {
   "cell_type": "code",
   "execution_count": 4,
   "id": "e290458b-d20d-4115-9a46-7bd614653eb9",
   "metadata": {},
   "outputs": [],
   "source": [
    "cur = conn.cursor()"
   ]
  },
  {
   "cell_type": "markdown",
   "id": "7a11de84-8c8f-46a5-9da1-765f9e97fbae",
   "metadata": {},
   "source": [
    "(trip_id integer primary key, alt integer, speed_mph real, n_sats integer, duration integer, date text, time text)"
   ]
  },
  {
   "cell_type": "code",
   "execution_count": 11,
   "id": "c8fbced7-33e4-4bed-bff9-ebb1e841ba84",
   "metadata": {},
   "outputs": [],
   "source": [
    "def add_gps_item(conn, gps):\n",
    "    query = \"\"\"INSERT INTO gps_data (trip_id, alt, speed_mph, n_sats, duration, date, time) VALUES(?,?,?,?,?,?,?)\"\"\"\n",
    "    \n",
    "    cur = conn.cursor()\n",
    "    cur.execute(query, gps)\n",
    "    conn.commit()\n",
    "    return cur.lastrowid"
   ]
  },
  {
   "cell_type": "code",
   "execution_count": 13,
   "id": "5fcc984e-0b4f-4e1a-b01b-0857307947c0",
   "metadata": {},
   "outputs": [],
   "source": [
    "def add_gps_data(conn, gps_df):\n",
    "    \n",
    "    for row in range(0,len(gps_df)):\n",
    "        trip_id = int(gps_df.iloc[row]['trip_id'])\n",
    "        alt = int(gps_df.iloc[row]['alt'])\n",
    "        speed = float(gps_df.iloc[row]['speed_mph'])\n",
    "        sats = int(gps_df.iloc[row]['n_sats'])\n",
    "        duration = int(gps_df.iloc[row]['duration'])\n",
    "        date = str(gps_df.iloc[row]['utcdate'])\n",
    "        time = str(gps_df.iloc[row]['utctime'])\n",
    "        \n",
    "        gps_data = (trip_id,alt,speed,sats,duration,date,time)\n",
    "        add_gps_item(conn, gps_df)\n",
    "        \n",
    "    conn.close()"
   ]
  },
  {
   "cell_type": "code",
   "execution_count": null,
   "id": "60de797c-e49e-496a-914c-1e6c35733456",
   "metadata": {},
   "outputs": [],
   "source": []
  }
 ],
 "metadata": {
  "kernelspec": {
   "display_name": "Python 3",
   "language": "python",
   "name": "python3"
  },
  "language_info": {
   "codemirror_mode": {
    "name": "ipython",
    "version": 3
   },
   "file_extension": ".py",
   "mimetype": "text/x-python",
   "name": "python",
   "nbconvert_exporter": "python",
   "pygments_lexer": "ipython3",
   "version": "3.8.8"
  }
 },
 "nbformat": 4,
 "nbformat_minor": 5
}
