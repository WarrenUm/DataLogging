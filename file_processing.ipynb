{
 "cells": [
  {
   "cell_type": "code",
   "execution_count": null,
   "id": "ca7bc55b-503d-41c1-a0ba-124d1bc14238",
   "metadata": {},
   "outputs": [],
   "source": []
  },
  {
   "cell_type": "code",
   "execution_count": 6,
   "id": "9625f2fa-ce4d-4db3-b5e2-83cad29c1275",
   "metadata": {},
   "outputs": [],
   "source": [
    "import pandas as pd\n",
    "import matplotlib.pyplot as plt\n",
    "import numpy as np\n",
    "from tqdm.notebook import tqdm_notebook\n",
    "import time\n",
    "import os"
   ]
  },
  {
   "cell_type": "markdown",
   "id": "1af2c2b7-27c8-4f9e-a48e-de2e9c2868e4",
   "metadata": {},
   "source": [
    "Each filename begins with the month followed by the day. Files do not have metadata so the creation dates are all the same. I will use the UTC data and time from the gps data to rename the files later."
   ]
  },
  {
   "cell_type": "code",
   "execution_count": 11,
   "id": "d1810f3d-083f-4746-8c96-5cd69acac925",
   "metadata": {},
   "outputs": [],
   "source": [
    "def load_raw_data(file):\n",
    "    '''Load raw data, set column names, make code and acceleration dataframes'''\n",
    "    df = pd.read_csv(file,header=None)\n",
    "    df.columns = ['time','code','value']\n",
    "    \n",
    "    times_list = df['time'].unique()\n",
    "\n",
    "    codes = pd.DataFrame(index=times_list,columns=['10C', '10D', '111', '104', '24', '11', '10', 'A', 'B', 'C', 'D', 'F'])\n",
    "\n",
    "    acc = pd.DataFrame(index=times_list,columns=['acc1','acc2','acc3','acc4'])\n",
    "    \n",
    "    return df, codes, acc, times_list"
   ]
  },
  {
   "cell_type": "code",
   "execution_count": 12,
   "id": "8bfc62b9-c2fa-4faa-889e-32f565ef2a43",
   "metadata": {},
   "outputs": [],
   "source": [
    "file = 'raw_data/11212145.CSV'\n",
    "df, codes, acc, times_list = load_raw_data(file)"
   ]
  },
  {
   "cell_type": "code",
   "execution_count": 13,
   "id": "f297f3ac-2a83-44c2-ba65-0ca5402e3554",
   "metadata": {},
   "outputs": [],
   "source": [
    "def first_process(df, times_list, codes, acc):\n",
    "    \n",
    "    for time in tqdm_notebook(times_list):\n",
    "\n",
    "        accel = 1\n",
    "        timedf = df.loc[df['time'] == time].copy().reset_index()\n",
    "        for row, val in enumerate(timedf['code']):\n",
    "\n",
    "            if val == '20':\n",
    "                #put in other dataframe\n",
    "                acc['acc' + str(accel)][time] = timedf['value'][row]\n",
    "                accel = accel + 1\n",
    "            else:\n",
    "                codes[val][time] = timedf['value'][row]\n",
    "                \n",
    "    return df, times_list, codes, acc"
   ]
  },
  {
   "cell_type": "code",
   "execution_count": 14,
   "id": "39f1e4e0-1fd9-4603-b9c8-eb3950285d2f",
   "metadata": {},
   "outputs": [
    {
     "data": {
      "application/vnd.jupyter.widget-view+json": {
       "model_id": "e70d679e71eb4d34807ea4f0c20167c7",
       "version_major": 2,
       "version_minor": 0
      },
      "text/plain": [
       "  0%|          | 0/36430 [00:00<?, ?it/s]"
      ]
     },
     "metadata": {},
     "output_type": "display_data"
    }
   ],
   "source": [
    "df, times_list, codes, acc = first_process(df,times_list,codes,acc)"
   ]
  },
  {
   "cell_type": "code",
   "execution_count": 15,
   "id": "5e091c3f-2074-454f-8aef-5932236ed65b",
   "metadata": {},
   "outputs": [],
   "source": [
    "conv_codes = codes.copy()\n",
    "conv_acc = acc.copy()"
   ]
  },
  {
   "cell_type": "code",
   "execution_count": 16,
   "id": "689c1842-09b9-432f-b3d4-05b8fca68362",
   "metadata": {},
   "outputs": [],
   "source": [
    "def map_codes(conv_codes):\n",
    "    \n",
    "    code_map = {'104':'engine_load','10C':'rpm','10D':'speed','111':'throt_pos','24':'bat_volt','11':'utcdate','10':'utctime',\n",
    "            'A':'lat','B':'long','C':'alt','D':'speed_kmph','F':'n_sats'}\n",
    "    \n",
    "    conv_codes.columns = conv_codes.columns.map(code_map)\n",
    "    \n",
    "    return conv_codes"
   ]
  },
  {
   "cell_type": "code",
   "execution_count": 17,
   "id": "6c5a2607-4bd1-4e8f-9820-1063087272bb",
   "metadata": {},
   "outputs": [],
   "source": [
    "conv_codes = map_codes(conv_codes)"
   ]
  },
  {
   "cell_type": "code",
   "execution_count": null,
   "id": "6383f9b0-9c57-4fc3-b0ae-907718987e4f",
   "metadata": {},
   "outputs": [],
   "source": []
  },
  {
   "cell_type": "code",
   "execution_count": null,
   "id": "beb22659-acbf-4cb2-9e3d-dfd82e4b7934",
   "metadata": {},
   "outputs": [],
   "source": []
  },
  {
   "cell_type": "code",
   "execution_count": null,
   "id": "b1b99df2-1c1b-4156-a689-e423f0cd3420",
   "metadata": {},
   "outputs": [],
   "source": [
    "\n"
   ]
  },
  {
   "cell_type": "code",
   "execution_count": 18,
   "id": "989cae28-e431-4ae9-9829-9dbd40bde41b",
   "metadata": {},
   "outputs": [],
   "source": [
    "def obd_cleaner(conv_codes):\n",
    "    \n",
    "    obd_data = conv_codes[['rpm','speed','throt_pos','engine_load','bat_volt']]\n",
    "    \n",
    "    obd_data = obd_data.dropna(how='all')\n",
    "    \n",
    "    obd_data['rpm'] = obd_data['rpm'].astype('float',errors='ignore')\n",
    "    obd_data['speed'] = obd_data['speed'].astype('float',errors='ignore')\n",
    "    obd_data['bat_volt'] = obd_data['bat_volt'].astype('float',errors='ignore')\n",
    "\n",
    "\n",
    "    #convert to mph\n",
    "    obd_data['speed'] = obd_data['speed'] * 0.621371\n",
    "    #bat volt\n",
    "    obd_data['bat_volt'] = obd_data['bat_volt'] / 100\n",
    "    \n",
    "    return obd_data"
   ]
  },
  {
   "cell_type": "code",
   "execution_count": 19,
   "id": "06708cc2-2397-4f02-b90d-fc71a6a133e8",
   "metadata": {},
   "outputs": [],
   "source": [
    "obd_data = obd_cleaner(conv_codes)"
   ]
  },
  {
   "cell_type": "code",
   "execution_count": 20,
   "id": "6856a45d-8644-4dcf-ab74-0245bb71d2fc",
   "metadata": {},
   "outputs": [],
   "source": [
    "def gps_cleaner(conv_codes):\n",
    "    \n",
    "    gps_data = conv_codes[['utcdate','utctime','lat','long','alt','speed_kmph','n_sats']]\n",
    "    \n",
    "    gps_data['lat'] = gps_data['lat'].astype('float',errors='ignore')\n",
    "    gps_data['long'] = gps_data['long'].astype('float',errors='ignore')\n",
    "    gps_data['speed_kmph'] = gps_data['speed_kmph'].astype('float',errors='ignore')\n",
    "    gps_data['speed_kmph'] = gps_data['speed_kmph'] * 0.621371\n",
    "\n",
    "    gps_data.rename(columns={'speed_kmph':'speed_mph'},inplace=True)\n",
    "\n",
    "    #div lat and long my 1mil to get right number\n",
    "    gps_data['lat'] = gps_data['lat'] / 1000000\n",
    "    gps_data['long'] = gps_data['long'] / 1000000\n",
    "\n",
    "\n",
    "    gps_data = gps_data.dropna(how='all')\n",
    "    \n",
    "    return gps_data"
   ]
  },
  {
   "cell_type": "code",
   "execution_count": 21,
   "id": "ca6958c8-6712-471a-b84e-164725dbd598",
   "metadata": {
    "tags": []
   },
   "outputs": [
    {
     "name": "stderr",
     "output_type": "stream",
     "text": [
      "<ipython-input-20-fec06bf4db3e>:5: SettingWithCopyWarning: \n",
      "A value is trying to be set on a copy of a slice from a DataFrame.\n",
      "Try using .loc[row_indexer,col_indexer] = value instead\n",
      "\n",
      "See the caveats in the documentation: https://pandas.pydata.org/pandas-docs/stable/user_guide/indexing.html#returning-a-view-versus-a-copy\n",
      "  gps_data['lat'] = gps_data['lat'].astype('float',errors='ignore')\n",
      "<ipython-input-20-fec06bf4db3e>:6: SettingWithCopyWarning: \n",
      "A value is trying to be set on a copy of a slice from a DataFrame.\n",
      "Try using .loc[row_indexer,col_indexer] = value instead\n",
      "\n",
      "See the caveats in the documentation: https://pandas.pydata.org/pandas-docs/stable/user_guide/indexing.html#returning-a-view-versus-a-copy\n",
      "  gps_data['long'] = gps_data['long'].astype('float',errors='ignore')\n",
      "<ipython-input-20-fec06bf4db3e>:7: SettingWithCopyWarning: \n",
      "A value is trying to be set on a copy of a slice from a DataFrame.\n",
      "Try using .loc[row_indexer,col_indexer] = value instead\n",
      "\n",
      "See the caveats in the documentation: https://pandas.pydata.org/pandas-docs/stable/user_guide/indexing.html#returning-a-view-versus-a-copy\n",
      "  gps_data['speed_kmph'] = gps_data['speed_kmph'].astype('float',errors='ignore')\n",
      "<ipython-input-20-fec06bf4db3e>:8: SettingWithCopyWarning: \n",
      "A value is trying to be set on a copy of a slice from a DataFrame.\n",
      "Try using .loc[row_indexer,col_indexer] = value instead\n",
      "\n",
      "See the caveats in the documentation: https://pandas.pydata.org/pandas-docs/stable/user_guide/indexing.html#returning-a-view-versus-a-copy\n",
      "  gps_data['speed_kmph'] = gps_data['speed_kmph'] * 0.621371\n",
      "C:\\Users\\umbac\\anaconda3\\envs\\tf_gpu\\lib\\site-packages\\pandas\\core\\frame.py:5034: SettingWithCopyWarning: \n",
      "A value is trying to be set on a copy of a slice from a DataFrame\n",
      "\n",
      "See the caveats in the documentation: https://pandas.pydata.org/pandas-docs/stable/user_guide/indexing.html#returning-a-view-versus-a-copy\n",
      "  return super().rename(\n",
      "<ipython-input-20-fec06bf4db3e>:13: SettingWithCopyWarning: \n",
      "A value is trying to be set on a copy of a slice from a DataFrame.\n",
      "Try using .loc[row_indexer,col_indexer] = value instead\n",
      "\n",
      "See the caveats in the documentation: https://pandas.pydata.org/pandas-docs/stable/user_guide/indexing.html#returning-a-view-versus-a-copy\n",
      "  gps_data['lat'] = gps_data['lat'] / 1000000\n",
      "<ipython-input-20-fec06bf4db3e>:14: SettingWithCopyWarning: \n",
      "A value is trying to be set on a copy of a slice from a DataFrame.\n",
      "Try using .loc[row_indexer,col_indexer] = value instead\n",
      "\n",
      "See the caveats in the documentation: https://pandas.pydata.org/pandas-docs/stable/user_guide/indexing.html#returning-a-view-versus-a-copy\n",
      "  gps_data['long'] = gps_data['long'] / 1000000\n"
     ]
    }
   ],
   "source": [
    "gps_data = gps_cleaner(conv_codes)"
   ]
  },
  {
   "cell_type": "markdown",
   "id": "9e3408a9-4393-4bd3-acf1-831fd109b418",
   "metadata": {},
   "source": [
    "The UTC date is written once while the time is continous. I define the formats below and convert them to date time."
   ]
  },
  {
   "cell_type": "code",
   "execution_count": null,
   "id": "411e3af7-9a1f-4292-9a01-96e1ed6c9540",
   "metadata": {},
   "outputs": [],
   "source": []
  },
  {
   "cell_type": "code",
   "execution_count": 22,
   "id": "3901ebcd-089e-4473-ad3d-c489a7a1644e",
   "metadata": {},
   "outputs": [],
   "source": [
    "def gps_datetime_format(gps_data):\n",
    "    #get utc date\n",
    "    utc_date_format = '%d%m%y'\n",
    "    utc_time_format = '%H%M%S%f'\n",
    "\n",
    "    #apply formats\n",
    "    gps_data['utcdate'] = pd.to_datetime(gps_data['utcdate'][:1],format=utc_date_format)\n",
    "\n",
    "    gps_data['utctime'] = pd.to_datetime(gps_data['utctime'],format=utc_time_format)\n",
    "    \n",
    "    gps_data['utctime'] = pd.DatetimeIndex(gps_data['utctime']).time\n",
    "    \n",
    "    return gps_data"
   ]
  },
  {
   "cell_type": "code",
   "execution_count": 23,
   "id": "26547bf7-7d12-44ba-ab4b-9dea6d109f39",
   "metadata": {},
   "outputs": [],
   "source": [
    "gps_data = gps_datetime_format(gps_data)"
   ]
  },
  {
   "cell_type": "code",
   "execution_count": 24,
   "id": "cbad5031-f513-446e-b92c-94ffdc6d8214",
   "metadata": {},
   "outputs": [],
   "source": [
    "def trip_organizer(gps_data, acc, obd_data):\n",
    "    \n",
    "    time_str = str(gps_data['utctime'][gps_data.index[0]])\n",
    "    hour = time_str[:2]\n",
    "    minute = time_str[3:5]\n",
    "    second = time_str[6:8]\n",
    "    \n",
    "    date_str = str(gps_data['utcdate'][gps_data.index[0]])[:10]\n",
    "    \n",
    "    folder_path = date_str + '__' + hour + '-' + minute + '-' + second\n",
    "    \n",
    "    if not os.path.exists(folder_path):\n",
    "        os.makedirs(folder_path)\n",
    "        \n",
    "    gps_data.to_csv(f'{folder_path}/gps_data_{date_str}.csv')\n",
    "    acc.to_csv(f'{folder_path}/acc_data_{date_str}.csv')\n",
    "    obd_data.to_csv(f'{folder_path}/obd_data_{date_str}.csv')"
   ]
  },
  {
   "cell_type": "code",
   "execution_count": null,
   "id": "3949ef5b-e994-4f4a-b7bc-eca62ee975d6",
   "metadata": {},
   "outputs": [],
   "source": []
  },
  {
   "cell_type": "code",
   "execution_count": null,
   "id": "d04eda62-2be0-4b86-a8e7-a408dedab08b",
   "metadata": {},
   "outputs": [],
   "source": []
  },
  {
   "cell_type": "code",
   "execution_count": 25,
   "id": "d0335afc-cc4d-43d2-963d-6edd300ae582",
   "metadata": {},
   "outputs": [],
   "source": [
    "trip_organizer(gps_data, acc, obd_data)"
   ]
  },
  {
   "cell_type": "code",
   "execution_count": null,
   "id": "e66fca11-6f1e-4496-b567-ae689a4ed38f",
   "metadata": {},
   "outputs": [],
   "source": []
  }
 ],
 "metadata": {
  "kernelspec": {
   "display_name": "tf_gpu",
   "language": "python",
   "name": "tf_gpu"
  },
  "language_info": {
   "codemirror_mode": {
    "name": "ipython",
    "version": 3
   },
   "file_extension": ".py",
   "mimetype": "text/x-python",
   "name": "python",
   "nbconvert_exporter": "python",
   "pygments_lexer": "ipython3",
   "version": "3.8.0"
  }
 },
 "nbformat": 4,
 "nbformat_minor": 5
}
