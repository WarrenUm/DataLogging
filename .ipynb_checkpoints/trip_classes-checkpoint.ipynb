{
 "cells": [
  {
   "cell_type": "code",
   "execution_count": 1,
   "id": "8a43a093-6281-478a-805b-a0357e77d493",
   "metadata": {},
   "outputs": [],
   "source": [
    "import pandas as pd\n",
    "import matplotlib.pyplot as plt\n",
    "import numpy as np\n",
    "from tqdm.notebook import tqdm_notebook\n",
    "import time\n",
    "import os\n",
    "from functions import *"
   ]
  },
  {
   "cell_type": "code",
   "execution_count": 2,
   "id": "0dafbac9-8bbf-4133-847b-e254169db396",
   "metadata": {},
   "outputs": [],
   "source": [
    "import reverse_geocoder"
   ]
  },
  {
   "cell_type": "code",
   "execution_count": 3,
   "id": "64ed62f1-9633-4623-a5eb-e448ea97bce6",
   "metadata": {},
   "outputs": [],
   "source": [
    "#read in acc, obd, and gps data"
   ]
  },
  {
   "cell_type": "code",
   "execution_count": 4,
   "id": "acf2479a-1484-46e1-b5d9-6ce9d9a16b45",
   "metadata": {},
   "outputs": [],
   "source": [
    "\n",
    "acc = pd.read_csv('Converted/2021-11-19__18-15-21/acc_data_2021-11-19.csv',index_col=0)\n",
    "gps_data = pd.read_csv('Converted/2021-11-19__18-15-21/gps_data_2021-11-19.csv',index_col=0)\n",
    "obd_data = pd.read_csv('Converted/2021-11-19__18-15-21/obd_data_2021-11-19.csv',index_col=0)"
   ]
  },
  {
   "cell_type": "code",
   "execution_count": 35,
   "id": "3b0883fa-552f-41c1-928b-b6cc356d76a4",
   "metadata": {},
   "outputs": [],
   "source": [
    "class trip:\n",
    "    \n",
    "    def __init__(self, acc, gps_data, obd_data):\n",
    "        \n",
    "        acceleration_data = acc\n",
    "        gps_data = gps_data\n",
    "        obd_data = obd_data\n",
    "        \n",
    "        #start time\n",
    "        self.start_time = gps_data.utctime[gps_data.index[0]]\n",
    "        \n",
    "        #end time\n",
    "        self.end_time = gps_data.utctime[gps_data.index[-1]]\n",
    "        \n",
    "        #duration\n",
    "        self.duration = (obd_data.index[-1] - obd_data.index[0]) * 0.001\n",
    "        \n",
    "        \n",
    "        #avg speed\n",
    "        self.avg_speed = np.mean(obd_data.speed)\n",
    "        #max speed\n",
    "        self.max_speed = np.max(obd_data.speed)\n",
    "        self.max_speed_timestamps = obd_data.loc[obd_data.speed == self.max_speed].index\n",
    "        self.max_speed_duration = (self.max_speed_timestamps[-1] - self.max_speed_timestamps[0]) * 0.001\n",
    "        \n",
    "        \n",
    "        #length - not a great calculation, but better than using coords with a minkowski\n",
    "        self.approx_distance = (self.duration / 3600) * self.avg_speed\n",
    "        \n",
    "        #time in certain speed ranges\n",
    "        \n",
    "        #start location\n",
    "        self.start_coords = (gps_data.lat[gps_data.index[0]], gps_data.long[gps_data.index[0]])\n",
    "        self.end_coords = (gps_data.lat[gps_data.index[-1]], gps_data.long[gps_data.index[-1]])\n",
    "        \n",
    "       \n",
    "        #engine rpm\n",
    "        self.avg_rpm = np.mean(obd_data.rpm)\n",
    "        \n",
    "        self.max_rpm = np.max(obd_data.rpm)\n",
    "        self.max_rpm_timestamps = obd_data.loc[obd_data.rpm == self.max_rpm].index\n",
    "        self.max_rpm_duration = (self.max_rpm_timestamps[-1] - self.max_rpm_timestamps[0]) * 0.001\n",
    "        \n",
    "        #engine throttle pos\n",
    "        self.avg_throt_pos = np.mean(obd_data.throt_pos)\n",
    "        \n",
    "        self.max_throt = np.max(obd_data.throt_pos)\n",
    "        self.max_throt_timestamps = obd_data.loc[obd_data.throt_pos == self.max_throt].index\n",
    "        \n",
    "        #fix not continuous timestamps for duration calculations\n",
    "#         self.max_throt_duration = (self.max_throt_timestamps[-1] - self.max_throt_timestamps[0]) * 0.001\n",
    "        \n",
    "#         #altitude - BAD!\n",
    "#         self.max_altitude = np.max(gps_data.alt)\n",
    "#         self.min_altitude = np.min(gps_data.alt)\n",
    "#         self.altitude_chg = self.max_altitude - self.min_altitude\n",
    "\n",
    "\n",
    "    #def start_destination_info(self):\n",
    "        \n",
    "    #reverse geocode from location data and get start and end city, county, state, etc\n",
    "        \n",
    "    def trip_stats(self):\n",
    "        duration = print(f'This trip took {round(self.duration / 60)} minutes')\n",
    "        avg_speed = print(f'The average speed was {round(self.avg_speed)} miles per hour')\n",
    "        max_speed = print(f'The max speed was {round(self.max_speed)} for about {round(self.max_speed_duration)} seconds')\n",
    "        \n",
    "        \n",
    "    def get_start_location(self):\n",
    "        \n",
    "        self.start_location_data = reverse_geocoder.search(self.start_coords)\n",
    "        return self.start_location_data\n",
    "        \n",
    "    def get_end_location(self):\n",
    "        \n",
    "        self.end_location_data = reverse_geocoder.search(self.end_coords)\n",
    "        return self.end_location_data\n",
    "        \n",
    "        return duration, avg_speed, max_speed"
   ]
  },
  {
   "cell_type": "code",
   "execution_count": 36,
   "id": "e64cf54f-9091-49d7-a031-71a567c5bf66",
   "metadata": {},
   "outputs": [],
   "source": [
    "trip_1 = trip(acc, gps_data, obd_data)"
   ]
  },
  {
   "cell_type": "code",
   "execution_count": 37,
   "id": "24ee7d80-605d-4f74-ad58-9533134ea812",
   "metadata": {},
   "outputs": [
    {
     "data": {
      "text/plain": [
       "(33.464435, -86.723838)"
      ]
     },
     "execution_count": 37,
     "metadata": {},
     "output_type": "execute_result"
    }
   ],
   "source": [
    "trip_1.start_coords"
   ]
  },
  {
   "cell_type": "code",
   "execution_count": 38,
   "id": "0f30f0dc-6922-464d-815b-2ec0df9a8f1d",
   "metadata": {},
   "outputs": [
    {
     "data": {
      "text/plain": [
       "(34.075533, -87.163657)"
      ]
     },
     "execution_count": 38,
     "metadata": {},
     "output_type": "execute_result"
    }
   ],
   "source": [
    "trip_1.end_coords"
   ]
  },
  {
   "cell_type": "code",
   "execution_count": 39,
   "id": "adc62f1a-da89-4dfa-ae69-083d3339fe1f",
   "metadata": {},
   "outputs": [
    {
     "data": {
      "text/plain": [
       "[{'lat': '33.464',\n",
       "  'lon': '-86.73193',\n",
       "  'name': 'Cahaba Heights',\n",
       "  'admin1': 'Alabama',\n",
       "  'admin2': 'Jefferson County',\n",
       "  'cc': 'US'}]"
      ]
     },
     "execution_count": 39,
     "metadata": {},
     "output_type": "execute_result"
    }
   ],
   "source": [
    "reverse_geocoder.search(trip_1.start_coords)"
   ]
  },
  {
   "cell_type": "code",
   "execution_count": 41,
   "id": "48158216-d8ef-4a4e-9850-bec816d9066f",
   "metadata": {},
   "outputs": [
    {
     "data": {
      "text/plain": [
       "[{'lat': '33.464',\n",
       "  'lon': '-86.73193',\n",
       "  'name': 'Cahaba Heights',\n",
       "  'admin1': 'Alabama',\n",
       "  'admin2': 'Jefferson County',\n",
       "  'cc': 'US'}]"
      ]
     },
     "execution_count": 41,
     "metadata": {},
     "output_type": "execute_result"
    }
   ],
   "source": [
    "trip_1.get_start_location()"
   ]
  },
  {
   "cell_type": "code",
   "execution_count": 42,
   "id": "aadae114-5582-4a25-ab4b-da4748a609c6",
   "metadata": {},
   "outputs": [
    {
     "data": {
      "text/plain": [
       "[{'lat': '34.14649',\n",
       "  'lon': '-87.40224',\n",
       "  'name': 'Double Springs',\n",
       "  'admin1': 'Alabama',\n",
       "  'admin2': 'Winston County',\n",
       "  'cc': 'US'}]"
      ]
     },
     "execution_count": 42,
     "metadata": {},
     "output_type": "execute_result"
    }
   ],
   "source": [
    "trip_1.get_end_location()"
   ]
  },
  {
   "cell_type": "code",
   "execution_count": null,
   "id": "eccd255e-b274-4b8c-847a-9838fe0a1dcd",
   "metadata": {},
   "outputs": [],
   "source": [
    "obd_data"
   ]
  },
  {
   "cell_type": "code",
   "execution_count": null,
   "id": "44c8278f-939f-4d3f-a81e-697ce31e1bcf",
   "metadata": {},
   "outputs": [],
   "source": [
    "start = obd_data.index[0]"
   ]
  },
  {
   "cell_type": "code",
   "execution_count": null,
   "id": "c3a7f302-90ce-41ec-bf27-aebed56baf49",
   "metadata": {},
   "outputs": [],
   "source": [
    "end = obd_data.index[-1]"
   ]
  },
  {
   "cell_type": "code",
   "execution_count": null,
   "id": "f1318959-3854-4e44-8e45-450e48702c63",
   "metadata": {},
   "outputs": [],
   "source": [
    "duration = (end - start) * 0.001"
   ]
  },
  {
   "cell_type": "code",
   "execution_count": null,
   "id": "fe8bd484-129c-4f53-bce6-60d96a5c9dcf",
   "metadata": {},
   "outputs": [],
   "source": [
    "duration"
   ]
  },
  {
   "cell_type": "code",
   "execution_count": null,
   "id": "98c0586f-8b44-4b8e-b61a-df04fc0bae53",
   "metadata": {},
   "outputs": [],
   "source": [
    "gps_data.index[0]"
   ]
  },
  {
   "cell_type": "code",
   "execution_count": null,
   "id": "58ed0a1f-c075-4ff3-a1e2-8863ae37a34d",
   "metadata": {},
   "outputs": [],
   "source": [
    "gps_data"
   ]
  },
  {
   "cell_type": "code",
   "execution_count": null,
   "id": "48ccfd41-c61e-4bc8-ac67-5f11a3afcb0f",
   "metadata": {},
   "outputs": [],
   "source": [
    "gps_data.index[-1]"
   ]
  },
  {
   "cell_type": "code",
   "execution_count": null,
   "id": "0d177deb-d2e0-4d15-a4c0-c82c47bf2649",
   "metadata": {},
   "outputs": [],
   "source": []
  }
 ],
 "metadata": {
  "kernelspec": {
   "display_name": "tf_gpu",
   "language": "python",
   "name": "tf_gpu"
  },
  "language_info": {
   "codemirror_mode": {
    "name": "ipython",
    "version": 3
   },
   "file_extension": ".py",
   "mimetype": "text/x-python",
   "name": "python",
   "nbconvert_exporter": "python",
   "pygments_lexer": "ipython3",
   "version": "3.8.0"
  }
 },
 "nbformat": 4,
 "nbformat_minor": 5
}
