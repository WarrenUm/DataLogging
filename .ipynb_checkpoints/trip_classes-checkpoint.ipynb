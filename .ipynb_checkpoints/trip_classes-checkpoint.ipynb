{
 "cells": [
  {
   "cell_type": "code",
   "execution_count": 13,
   "id": "8a43a093-6281-478a-805b-a0357e77d493",
   "metadata": {},
   "outputs": [],
   "source": [
    "import pandas as pd\n",
    "import matplotlib.pyplot as plt\n",
    "import numpy as np\n",
    "from tqdm.notebook import tqdm_notebook\n",
    "import time\n",
    "import os\n",
    "from functions import *"
   ]
  },
  {
   "cell_type": "code",
   "execution_count": 14,
   "id": "0dafbac9-8bbf-4133-847b-e254169db396",
   "metadata": {},
   "outputs": [],
   "source": [
    "import reverse_geocoder"
   ]
  },
  {
   "cell_type": "code",
   "execution_count": 15,
   "id": "64ed62f1-9633-4623-a5eb-e448ea97bce6",
   "metadata": {},
   "outputs": [],
   "source": [
    "#read in acc, obd, and gps data"
   ]
  },
  {
   "cell_type": "code",
   "execution_count": 16,
   "id": "acf2479a-1484-46e1-b5d9-6ce9d9a16b45",
   "metadata": {},
   "outputs": [],
   "source": [
    "\n",
    "acc = pd.read_csv('Converted/2021-11-19__18-15-21_sans_location/acc_data_2021-11-19.csv',index_col=0)\n",
    "gps_data = pd.read_csv('Converted/2021-11-19__18-15-21_sans_location/gps_data_2021-11-19.csv',index_col=0)\n",
    "obd_data = pd.read_csv('Converted/2021-11-19__18-15-21_sans_location/obd_data_2021-11-19.csv',index_col=0)"
   ]
  },
  {
   "cell_type": "code",
   "execution_count": 19,
   "id": "3b0883fa-552f-41c1-928b-b6cc356d76a4",
   "metadata": {},
   "outputs": [],
   "source": [
    "class trip:\n",
    "    \n",
    "    def __init__(self, acc, gps_data, obd_data):\n",
    "        \n",
    "        acceleration_data = acc\n",
    "        gps_data = gps_data\n",
    "        obd_data = obd_data\n",
    "        \n",
    "        #start time\n",
    "        self.start_time = gps_data.utctime[gps_data.index[0]]\n",
    "        \n",
    "        #end time\n",
    "        self.end_time = gps_data.utctime[gps_data.index[-1]]\n",
    "        \n",
    "        #duration\n",
    "        self.duration = (obd_data.index[-1] - obd_data.index[0]) * 0.001\n",
    "        \n",
    "        \n",
    "        #avg speed\n",
    "        self.avg_speed = np.mean(obd_data.speed)\n",
    "        #max speed\n",
    "        self.max_speed = np.max(obd_data.speed)\n",
    "        self.max_speed_timestamps = obd_data.loc[obd_data.speed == self.max_speed].index\n",
    "        self.max_speed_duration = (self.max_speed_timestamps[-1] - self.max_speed_timestamps[0]) * 0.001\n",
    "        \n",
    "        \n",
    "        #length - not a great calculation, but better than using coords with a minkowski\n",
    "        self.approx_distance = (self.duration / 3600) * self.avg_speed\n",
    "        \n",
    "        #time in certain speed ranges\n",
    "        \n",
    "        #start location\n",
    "        #self.start_coords = (gps_data.lat[gps_data.index[0]], gps_data.long[gps_data.index[0]])\n",
    "        #self.end_coords = (gps_data.lat[gps_data.index[-1]], gps_data.long[gps_data.index[-1]])\n",
    "        \n",
    "       \n",
    "        #engine rpm\n",
    "        self.avg_rpm = np.mean(obd_data.rpm)\n",
    "        \n",
    "        self.max_rpm = np.max(obd_data.rpm)\n",
    "        self.max_rpm_timestamps = obd_data.loc[obd_data.rpm == self.max_rpm].index\n",
    "        self.max_rpm_duration = (self.max_rpm_timestamps[-1] - self.max_rpm_timestamps[0]) * 0.001\n",
    "        \n",
    "        #engine throttle pos\n",
    "        self.avg_throt_pos = np.mean(obd_data.throt_pos)\n",
    "        \n",
    "        self.max_throt = np.max(obd_data.throt_pos)\n",
    "        self.max_throt_timestamps = obd_data.loc[obd_data.throt_pos == self.max_throt].index\n",
    "        \n",
    "        #fix not continuous timestamps for duration calculations\n",
    "#         self.max_throt_duration = (self.max_throt_timestamps[-1] - self.max_throt_timestamps[0]) * 0.001\n",
    "        \n",
    "#         #altitude - BAD!\n",
    "#         self.max_altitude = np.max(gps_data.alt)\n",
    "#         self.min_altitude = np.min(gps_data.alt)\n",
    "#         self.altitude_chg = self.max_altitude - self.min_altitude\n",
    "\n",
    "\n",
    "    #def start_destination_info(self):\n",
    "        \n",
    "    #reverse geocode from location data and get start and end city, county, state, etc\n",
    "        \n",
    "    def trip_stats(self):\n",
    "        duration = print(f'This trip took {round(self.duration / 60)} minutes')\n",
    "        avg_speed = print(f'The average speed was {round(self.avg_speed)} miles per hour')\n",
    "        max_speed = print(f'The max speed was {round(self.max_speed)} for about {round(self.max_speed_duration)} seconds')\n",
    "        \n",
    "        \n",
    "    def get_start_location(self):\n",
    "        \n",
    "        self.start_location_data = reverse_geocoder.search(self.start_coords)\n",
    "        return self.start_location_data\n",
    "        \n",
    "    def get_end_location(self):\n",
    "        \n",
    "        self.end_location_data = reverse_geocoder.search(self.end_coords)\n",
    "        return self.end_location_data\n",
    "        \n",
    "        return duration, avg_speed, max_speed"
   ]
  },
  {
   "cell_type": "code",
   "execution_count": 20,
   "id": "e64cf54f-9091-49d7-a031-71a567c5bf66",
   "metadata": {},
   "outputs": [],
   "source": [
    "trip_1 = trip(acc, gps_data, obd_data)"
   ]
  },
  {
   "cell_type": "code",
   "execution_count": null,
   "id": "24ee7d80-605d-4f74-ad58-9533134ea812",
   "metadata": {},
   "outputs": [],
   "source": []
  },
  {
   "cell_type": "code",
   "execution_count": null,
   "id": "0f30f0dc-6922-464d-815b-2ec0df9a8f1d",
   "metadata": {},
   "outputs": [],
   "source": []
  },
  {
   "cell_type": "code",
   "execution_count": null,
   "id": "adc62f1a-da89-4dfa-ae69-083d3339fe1f",
   "metadata": {},
   "outputs": [],
   "source": []
  },
  {
   "cell_type": "code",
   "execution_count": null,
   "id": "48158216-d8ef-4a4e-9850-bec816d9066f",
   "metadata": {},
   "outputs": [],
   "source": []
  },
  {
   "cell_type": "code",
   "execution_count": null,
   "id": "aadae114-5582-4a25-ab4b-da4748a609c6",
   "metadata": {},
   "outputs": [],
   "source": []
  },
  {
   "cell_type": "code",
   "execution_count": 21,
   "id": "eccd255e-b274-4b8c-847a-9838fe0a1dcd",
   "metadata": {},
   "outputs": [
    {
     "data": {
      "text/html": [
       "<div>\n",
       "<style scoped>\n",
       "    .dataframe tbody tr th:only-of-type {\n",
       "        vertical-align: middle;\n",
       "    }\n",
       "\n",
       "    .dataframe tbody tr th {\n",
       "        vertical-align: top;\n",
       "    }\n",
       "\n",
       "    .dataframe thead th {\n",
       "        text-align: right;\n",
       "    }\n",
       "</style>\n",
       "<table border=\"1\" class=\"dataframe\">\n",
       "  <thead>\n",
       "    <tr style=\"text-align: right;\">\n",
       "      <th></th>\n",
       "      <th>rpm</th>\n",
       "      <th>speed</th>\n",
       "      <th>throt_pos</th>\n",
       "      <th>engine_load</th>\n",
       "      <th>bat_volt</th>\n",
       "    </tr>\n",
       "  </thead>\n",
       "  <tbody>\n",
       "    <tr>\n",
       "      <th>59851</th>\n",
       "      <td>902.0</td>\n",
       "      <td>0.0</td>\n",
       "      <td>17</td>\n",
       "      <td>27.0</td>\n",
       "      <td>14.63</td>\n",
       "    </tr>\n",
       "    <tr>\n",
       "      <th>64490</th>\n",
       "      <td>908.0</td>\n",
       "      <td>0.0</td>\n",
       "      <td>16</td>\n",
       "      <td>27.0</td>\n",
       "      <td>14.63</td>\n",
       "    </tr>\n",
       "    <tr>\n",
       "      <th>64754</th>\n",
       "      <td>909.0</td>\n",
       "      <td>0.0</td>\n",
       "      <td>16</td>\n",
       "      <td>27.0</td>\n",
       "      <td>14.57</td>\n",
       "    </tr>\n",
       "    <tr>\n",
       "      <th>65022</th>\n",
       "      <td>908.0</td>\n",
       "      <td>0.0</td>\n",
       "      <td>16</td>\n",
       "      <td>27.0</td>\n",
       "      <td>14.58</td>\n",
       "    </tr>\n",
       "    <tr>\n",
       "      <th>65292</th>\n",
       "      <td>910.0</td>\n",
       "      <td>0.0</td>\n",
       "      <td>16</td>\n",
       "      <td>27.0</td>\n",
       "      <td>14.60</td>\n",
       "    </tr>\n",
       "    <tr>\n",
       "      <th>...</th>\n",
       "      <td>...</td>\n",
       "      <td>...</td>\n",
       "      <td>...</td>\n",
       "      <td>...</td>\n",
       "      <td>...</td>\n",
       "    </tr>\n",
       "    <tr>\n",
       "      <th>5200245</th>\n",
       "      <td>0.0</td>\n",
       "      <td>0.0</td>\n",
       "      <td>32</td>\n",
       "      <td>0.0</td>\n",
       "      <td>12.30</td>\n",
       "    </tr>\n",
       "    <tr>\n",
       "      <th>5200515</th>\n",
       "      <td>0.0</td>\n",
       "      <td>0.0</td>\n",
       "      <td>32</td>\n",
       "      <td>0.0</td>\n",
       "      <td>12.31</td>\n",
       "    </tr>\n",
       "    <tr>\n",
       "      <th>5200789</th>\n",
       "      <td>0.0</td>\n",
       "      <td>0.0</td>\n",
       "      <td>32</td>\n",
       "      <td>0.0</td>\n",
       "      <td>12.32</td>\n",
       "    </tr>\n",
       "    <tr>\n",
       "      <th>5201052</th>\n",
       "      <td>0.0</td>\n",
       "      <td>0.0</td>\n",
       "      <td>32</td>\n",
       "      <td>0.0</td>\n",
       "      <td>12.31</td>\n",
       "    </tr>\n",
       "    <tr>\n",
       "      <th>5201321</th>\n",
       "      <td>0.0</td>\n",
       "      <td>0.0</td>\n",
       "      <td>32</td>\n",
       "      <td>NaN</td>\n",
       "      <td>12.31</td>\n",
       "    </tr>\n",
       "  </tbody>\n",
       "</table>\n",
       "<p>18675 rows × 5 columns</p>\n",
       "</div>"
      ],
      "text/plain": [
       "           rpm  speed  throt_pos  engine_load  bat_volt\n",
       "59851    902.0    0.0         17         27.0     14.63\n",
       "64490    908.0    0.0         16         27.0     14.63\n",
       "64754    909.0    0.0         16         27.0     14.57\n",
       "65022    908.0    0.0         16         27.0     14.58\n",
       "65292    910.0    0.0         16         27.0     14.60\n",
       "...        ...    ...        ...          ...       ...\n",
       "5200245    0.0    0.0         32          0.0     12.30\n",
       "5200515    0.0    0.0         32          0.0     12.31\n",
       "5200789    0.0    0.0         32          0.0     12.32\n",
       "5201052    0.0    0.0         32          0.0     12.31\n",
       "5201321    0.0    0.0         32          NaN     12.31\n",
       "\n",
       "[18675 rows x 5 columns]"
      ]
     },
     "execution_count": 21,
     "metadata": {},
     "output_type": "execute_result"
    }
   ],
   "source": [
    "obd_data"
   ]
  },
  {
   "cell_type": "code",
   "execution_count": 22,
   "id": "44c8278f-939f-4d3f-a81e-697ce31e1bcf",
   "metadata": {},
   "outputs": [],
   "source": [
    "start = obd_data.index[0]"
   ]
  },
  {
   "cell_type": "code",
   "execution_count": 23,
   "id": "c3a7f302-90ce-41ec-bf27-aebed56baf49",
   "metadata": {},
   "outputs": [],
   "source": [
    "end = obd_data.index[-1]"
   ]
  },
  {
   "cell_type": "code",
   "execution_count": 24,
   "id": "f1318959-3854-4e44-8e45-450e48702c63",
   "metadata": {},
   "outputs": [],
   "source": [
    "duration = (end - start) * 0.001"
   ]
  },
  {
   "cell_type": "code",
   "execution_count": 25,
   "id": "fe8bd484-129c-4f53-bce6-60d96a5c9dcf",
   "metadata": {},
   "outputs": [
    {
     "data": {
      "text/plain": [
       "5141.47"
      ]
     },
     "execution_count": 25,
     "metadata": {},
     "output_type": "execute_result"
    }
   ],
   "source": [
    "duration"
   ]
  },
  {
   "cell_type": "code",
   "execution_count": 26,
   "id": "98c0586f-8b44-4b8e-b61a-df04fc0bae53",
   "metadata": {},
   "outputs": [
    {
     "data": {
      "text/plain": [
       "64487"
      ]
     },
     "execution_count": 26,
     "metadata": {},
     "output_type": "execute_result"
    }
   ],
   "source": [
    "gps_data.index[0]"
   ]
  },
  {
   "cell_type": "code",
   "execution_count": 27,
   "id": "58ed0a1f-c075-4ff3-a1e2-8863ae37a34d",
   "metadata": {},
   "outputs": [
    {
     "data": {
      "text/html": [
       "<div>\n",
       "<style scoped>\n",
       "    .dataframe tbody tr th:only-of-type {\n",
       "        vertical-align: middle;\n",
       "    }\n",
       "\n",
       "    .dataframe tbody tr th {\n",
       "        vertical-align: top;\n",
       "    }\n",
       "\n",
       "    .dataframe thead th {\n",
       "        text-align: right;\n",
       "    }\n",
       "</style>\n",
       "<table border=\"1\" class=\"dataframe\">\n",
       "  <thead>\n",
       "    <tr style=\"text-align: right;\">\n",
       "      <th></th>\n",
       "      <th>utcdate</th>\n",
       "      <th>utctime</th>\n",
       "      <th>alt</th>\n",
       "      <th>speed_mph</th>\n",
       "      <th>n_sats</th>\n",
       "    </tr>\n",
       "  </thead>\n",
       "  <tbody>\n",
       "    <tr>\n",
       "      <th>64487</th>\n",
       "      <td>2021-11-19</td>\n",
       "      <td>18:15:21.400000</td>\n",
       "      <td>184</td>\n",
       "      <td>234.256867</td>\n",
       "      <td>4</td>\n",
       "    </tr>\n",
       "    <tr>\n",
       "      <th>64751</th>\n",
       "      <td>NaN</td>\n",
       "      <td>18:15:21.600000</td>\n",
       "      <td>184</td>\n",
       "      <td>200.702833</td>\n",
       "      <td>4</td>\n",
       "    </tr>\n",
       "    <tr>\n",
       "      <th>65020</th>\n",
       "      <td>NaN</td>\n",
       "      <td>18:15:21.900000</td>\n",
       "      <td>185</td>\n",
       "      <td>301.364935</td>\n",
       "      <td>4</td>\n",
       "    </tr>\n",
       "    <tr>\n",
       "      <th>65289</th>\n",
       "      <td>NaN</td>\n",
       "      <td>18:15:22.200000</td>\n",
       "      <td>186</td>\n",
       "      <td>0.000000</td>\n",
       "      <td>4</td>\n",
       "    </tr>\n",
       "    <tr>\n",
       "      <th>65565</th>\n",
       "      <td>NaN</td>\n",
       "      <td>18:15:22.500000</td>\n",
       "      <td>186</td>\n",
       "      <td>133.594765</td>\n",
       "      <td>4</td>\n",
       "    </tr>\n",
       "    <tr>\n",
       "      <th>...</th>\n",
       "      <td>...</td>\n",
       "      <td>...</td>\n",
       "      <td>...</td>\n",
       "      <td>...</td>\n",
       "      <td>...</td>\n",
       "    </tr>\n",
       "    <tr>\n",
       "      <th>5200512</th>\n",
       "      <td>NaN</td>\n",
       "      <td>19:40:56.300000</td>\n",
       "      <td>184</td>\n",
       "      <td>66.486697</td>\n",
       "      <td>12</td>\n",
       "    </tr>\n",
       "    <tr>\n",
       "      <th>5200786</th>\n",
       "      <td>NaN</td>\n",
       "      <td>19:40:56.500000</td>\n",
       "      <td>184</td>\n",
       "      <td>100.040731</td>\n",
       "      <td>12</td>\n",
       "    </tr>\n",
       "    <tr>\n",
       "      <th>5201049</th>\n",
       "      <td>NaN</td>\n",
       "      <td>19:40:56.800000</td>\n",
       "      <td>184</td>\n",
       "      <td>200.702833</td>\n",
       "      <td>12</td>\n",
       "    </tr>\n",
       "    <tr>\n",
       "      <th>5201318</th>\n",
       "      <td>NaN</td>\n",
       "      <td>19:40:57.100000</td>\n",
       "      <td>184</td>\n",
       "      <td>66.486697</td>\n",
       "      <td>12</td>\n",
       "    </tr>\n",
       "    <tr>\n",
       "      <th>5201731</th>\n",
       "      <td>NaN</td>\n",
       "      <td>19:40:57.500000</td>\n",
       "      <td>184</td>\n",
       "      <td>32.932663</td>\n",
       "      <td>12</td>\n",
       "    </tr>\n",
       "  </tbody>\n",
       "</table>\n",
       "<p>17218 rows × 5 columns</p>\n",
       "</div>"
      ],
      "text/plain": [
       "            utcdate          utctime  alt   speed_mph  n_sats\n",
       "64487    2021-11-19  18:15:21.400000  184  234.256867       4\n",
       "64751           NaN  18:15:21.600000  184  200.702833       4\n",
       "65020           NaN  18:15:21.900000  185  301.364935       4\n",
       "65289           NaN  18:15:22.200000  186    0.000000       4\n",
       "65565           NaN  18:15:22.500000  186  133.594765       4\n",
       "...             ...              ...  ...         ...     ...\n",
       "5200512         NaN  19:40:56.300000  184   66.486697      12\n",
       "5200786         NaN  19:40:56.500000  184  100.040731      12\n",
       "5201049         NaN  19:40:56.800000  184  200.702833      12\n",
       "5201318         NaN  19:40:57.100000  184   66.486697      12\n",
       "5201731         NaN  19:40:57.500000  184   32.932663      12\n",
       "\n",
       "[17218 rows x 5 columns]"
      ]
     },
     "execution_count": 27,
     "metadata": {},
     "output_type": "execute_result"
    }
   ],
   "source": [
    "gps_data"
   ]
  },
  {
   "cell_type": "code",
   "execution_count": 28,
   "id": "48ccfd41-c61e-4bc8-ac67-5f11a3afcb0f",
   "metadata": {},
   "outputs": [
    {
     "data": {
      "text/plain": [
       "5201731"
      ]
     },
     "execution_count": 28,
     "metadata": {},
     "output_type": "execute_result"
    }
   ],
   "source": [
    "gps_data.index[-1]"
   ]
  },
  {
   "cell_type": "code",
   "execution_count": null,
   "id": "0d177deb-d2e0-4d15-a4c0-c82c47bf2649",
   "metadata": {},
   "outputs": [],
   "source": []
  }
 ],
 "metadata": {
  "kernelspec": {
   "display_name": "tf_gpu",
   "language": "python",
   "name": "tf_gpu"
  },
  "language_info": {
   "codemirror_mode": {
    "name": "ipython",
    "version": 3
   },
   "file_extension": ".py",
   "mimetype": "text/x-python",
   "name": "python",
   "nbconvert_exporter": "python",
   "pygments_lexer": "ipython3",
   "version": "3.8.0"
  }
 },
 "nbformat": 4,
 "nbformat_minor": 5
}
