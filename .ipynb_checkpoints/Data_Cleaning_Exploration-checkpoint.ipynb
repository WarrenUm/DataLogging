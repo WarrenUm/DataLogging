{
 "cells": [
  {
   "cell_type": "markdown",
   "id": "44ab7e9d-6980-4061-bbfc-eacc598a651d",
   "metadata": {},
   "source": [
    "   This is a project that I have been working on in my free time and is an extension of a previous car related project. The data is collected from an Arduino data-logger connected to my car. Each time the logger gets a batch of information from the car's computer or the gps receiver, it writes the time since the car started followed by a data code and a value.\n",
    "\n",
    "   The car takes time to send new data so there is a mismatch between the times on the car data and the gps data. I decided to split the data into car data from the OBDII port and gps sourced data. Another issue that I ran into is that the accelerometer also reports data more often than the OBDII port and at different intervals than the gps data.\n",
    "   \n",
    "   My plan is to split the data into three sets. One for the OBDII car data, one for the gps data, and one for the acceleration data. Then, I can use each separately. \n",
    "   \n",
    "   First, I'll walk through my process for separating the data. Then, I will clean up the data and do some unit conversions. Finally, I will plot some location data to get an idea for what is possible."
   ]
  },
  {
   "cell_type": "code",
   "execution_count": 1,
   "id": "d1ec71aa-1fad-4f96-8b6f-504697bbbded",
   "metadata": {},
   "outputs": [],
   "source": [
    "import pandas as pd\n",
    "import matplotlib.pyplot as plt\n",
    "import numpy as np"
   ]
  },
  {
   "cell_type": "markdown",
   "id": "d7bf9d50-4423-43ed-8223-2834262df483",
   "metadata": {},
   "source": [
    "Each filename begins with the month followed by the day. Files do not have metadata so the creation dates are all the same. I will use the UTC data and time from the gps data to rename the files later."
   ]
  },
  {
   "cell_type": "code",
   "execution_count": 2,
   "id": "abe2f137-f6cb-4f98-98d4-1c927ec4b0ca",
   "metadata": {},
   "outputs": [],
   "source": [
    "df = pd.read_csv('raw_data/11191815.CSV',header=None)\n",
    "df.columns = ['time','code','value']"
   ]
  },
  {
   "cell_type": "markdown",
   "id": "af67e5c5-dc14-48d9-9c21-3300e701203a",
   "metadata": {},
   "source": [
    "I have read in the file and assigned my own column names. The code column contains a repeating set of codes for a given time index. I would like to make new columns for each code and have one column for each unique time. Then, the code values need to fall under the right column."
   ]
  },
  {
   "cell_type": "code",
   "execution_count": 3,
   "id": "43b9a45f-7b0d-4e08-b793-b869e8ec03d8",
   "metadata": {},
   "outputs": [
    {
     "data": {
      "text/html": [
       "<div>\n",
       "<style scoped>\n",
       "    .dataframe tbody tr th:only-of-type {\n",
       "        vertical-align: middle;\n",
       "    }\n",
       "\n",
       "    .dataframe tbody tr th {\n",
       "        vertical-align: top;\n",
       "    }\n",
       "\n",
       "    .dataframe thead th {\n",
       "        text-align: right;\n",
       "    }\n",
       "</style>\n",
       "<table border=\"1\" class=\"dataframe\">\n",
       "  <thead>\n",
       "    <tr style=\"text-align: right;\">\n",
       "      <th></th>\n",
       "      <th>time</th>\n",
       "      <th>code</th>\n",
       "      <th>value</th>\n",
       "    </tr>\n",
       "  </thead>\n",
       "  <tbody>\n",
       "    <tr>\n",
       "      <th>0</th>\n",
       "      <td>59851</td>\n",
       "      <td>10C</td>\n",
       "      <td>902</td>\n",
       "    </tr>\n",
       "    <tr>\n",
       "      <th>1</th>\n",
       "      <td>59851</td>\n",
       "      <td>20</td>\n",
       "      <td>0;-1;-1</td>\n",
       "    </tr>\n",
       "    <tr>\n",
       "      <th>2</th>\n",
       "      <td>59851</td>\n",
       "      <td>10D</td>\n",
       "      <td>0</td>\n",
       "    </tr>\n",
       "    <tr>\n",
       "      <th>3</th>\n",
       "      <td>59851</td>\n",
       "      <td>20</td>\n",
       "      <td>0;0;0</td>\n",
       "    </tr>\n",
       "    <tr>\n",
       "      <th>4</th>\n",
       "      <td>59851</td>\n",
       "      <td>111</td>\n",
       "      <td>17</td>\n",
       "    </tr>\n",
       "    <tr>\n",
       "      <th>...</th>\n",
       "      <td>...</td>\n",
       "      <td>...</td>\n",
       "      <td>...</td>\n",
       "    </tr>\n",
       "    <tr>\n",
       "      <th>271849</th>\n",
       "      <td>5201731</td>\n",
       "      <td>F</td>\n",
       "      <td>12</td>\n",
       "    </tr>\n",
       "    <tr>\n",
       "      <th>271850</th>\n",
       "      <td>5201734</td>\n",
       "      <td>20</td>\n",
       "      <td>-5;3;0</td>\n",
       "    </tr>\n",
       "    <tr>\n",
       "      <th>271851</th>\n",
       "      <td>5201734</td>\n",
       "      <td>20</td>\n",
       "      <td>-4;2;0</td>\n",
       "    </tr>\n",
       "    <tr>\n",
       "      <th>271852</th>\n",
       "      <td>5201734</td>\n",
       "      <td>20</td>\n",
       "      <td>-5;3;0</td>\n",
       "    </tr>\n",
       "    <tr>\n",
       "      <th>271853</th>\n",
       "      <td>5201734</td>\n",
       "      <td>20</td>\n",
       "      <td>-3;3;-1</td>\n",
       "    </tr>\n",
       "  </tbody>\n",
       "</table>\n",
       "<p>271854 rows × 3 columns</p>\n",
       "</div>"
      ],
      "text/plain": [
       "           time code    value\n",
       "0         59851  10C      902\n",
       "1         59851   20  0;-1;-1\n",
       "2         59851  10D        0\n",
       "3         59851   20    0;0;0\n",
       "4         59851  111       17\n",
       "...         ...  ...      ...\n",
       "271849  5201731    F       12\n",
       "271850  5201734   20   -5;3;0\n",
       "271851  5201734   20   -4;2;0\n",
       "271852  5201734   20   -5;3;0\n",
       "271853  5201734   20  -3;3;-1\n",
       "\n",
       "[271854 rows x 3 columns]"
      ]
     },
     "execution_count": 3,
     "metadata": {},
     "output_type": "execute_result"
    }
   ],
   "source": [
    "df"
   ]
  },
  {
   "cell_type": "markdown",
   "id": "87e4f97b-8643-4238-873b-bb8aa8f7adfe",
   "metadata": {},
   "source": [
    "I start by making a list of the unique times in the time column. Then, I make new dataframes for the code data and acceleration data because they occur at different frequencies.\n"
   ]
  },
  {
   "cell_type": "code",
   "execution_count": 4,
   "id": "e292ff2e-1552-4dba-b814-c44e75eae3f3",
   "metadata": {},
   "outputs": [],
   "source": [
    "times_list = df['time'].unique()"
   ]
  },
  {
   "cell_type": "code",
   "execution_count": 5,
   "id": "8d00d44f-dca7-4733-b0c6-abe4cc3e430b",
   "metadata": {},
   "outputs": [
    {
     "data": {
      "text/plain": [
       "35894"
      ]
     },
     "execution_count": 5,
     "metadata": {},
     "output_type": "execute_result"
    }
   ],
   "source": [
    "len(times_list)"
   ]
  },
  {
   "cell_type": "code",
   "execution_count": 6,
   "id": "c15ede4f-97af-41cc-b0ed-2fb43b996c57",
   "metadata": {},
   "outputs": [
    {
     "data": {
      "text/plain": [
       "array(['10C', '20', '10D', '111', '104', '24', '11', '10', 'A', 'B', 'C',\n",
       "       'D', 'F'], dtype=object)"
      ]
     },
     "execution_count": 6,
     "metadata": {},
     "output_type": "execute_result"
    }
   ],
   "source": [
    "df['code'].unique()"
   ]
  },
  {
   "cell_type": "markdown",
   "id": "354b29e9-cb7c-45fc-a4c9-17202b5c9a0d",
   "metadata": {},
   "source": [
    "Code 20's indicate accelerometer data and that data goes to a separate dataframe.|"
   ]
  },
  {
   "cell_type": "code",
   "execution_count": 7,
   "id": "eaad202c-c263-4228-bb09-6abe09dad456",
   "metadata": {},
   "outputs": [
    {
     "data": {
      "text/html": [
       "<div>\n",
       "<style scoped>\n",
       "    .dataframe tbody tr th:only-of-type {\n",
       "        vertical-align: middle;\n",
       "    }\n",
       "\n",
       "    .dataframe tbody tr th {\n",
       "        vertical-align: top;\n",
       "    }\n",
       "\n",
       "    .dataframe thead th {\n",
       "        text-align: right;\n",
       "    }\n",
       "</style>\n",
       "<table border=\"1\" class=\"dataframe\">\n",
       "  <thead>\n",
       "    <tr style=\"text-align: right;\">\n",
       "      <th></th>\n",
       "      <th>acc1</th>\n",
       "      <th>acc2</th>\n",
       "      <th>acc3</th>\n",
       "      <th>acc4</th>\n",
       "    </tr>\n",
       "  </thead>\n",
       "  <tbody>\n",
       "    <tr>\n",
       "      <th>59851</th>\n",
       "      <td>NaN</td>\n",
       "      <td>NaN</td>\n",
       "      <td>NaN</td>\n",
       "      <td>NaN</td>\n",
       "    </tr>\n",
       "    <tr>\n",
       "      <th>64487</th>\n",
       "      <td>NaN</td>\n",
       "      <td>NaN</td>\n",
       "      <td>NaN</td>\n",
       "      <td>NaN</td>\n",
       "    </tr>\n",
       "    <tr>\n",
       "      <th>64490</th>\n",
       "      <td>NaN</td>\n",
       "      <td>NaN</td>\n",
       "      <td>NaN</td>\n",
       "      <td>NaN</td>\n",
       "    </tr>\n",
       "    <tr>\n",
       "      <th>64751</th>\n",
       "      <td>NaN</td>\n",
       "      <td>NaN</td>\n",
       "      <td>NaN</td>\n",
       "      <td>NaN</td>\n",
       "    </tr>\n",
       "    <tr>\n",
       "      <th>64754</th>\n",
       "      <td>NaN</td>\n",
       "      <td>NaN</td>\n",
       "      <td>NaN</td>\n",
       "      <td>NaN</td>\n",
       "    </tr>\n",
       "    <tr>\n",
       "      <th>...</th>\n",
       "      <td>...</td>\n",
       "      <td>...</td>\n",
       "      <td>...</td>\n",
       "      <td>...</td>\n",
       "    </tr>\n",
       "    <tr>\n",
       "      <th>5201052</th>\n",
       "      <td>NaN</td>\n",
       "      <td>NaN</td>\n",
       "      <td>NaN</td>\n",
       "      <td>NaN</td>\n",
       "    </tr>\n",
       "    <tr>\n",
       "      <th>5201318</th>\n",
       "      <td>NaN</td>\n",
       "      <td>NaN</td>\n",
       "      <td>NaN</td>\n",
       "      <td>NaN</td>\n",
       "    </tr>\n",
       "    <tr>\n",
       "      <th>5201321</th>\n",
       "      <td>NaN</td>\n",
       "      <td>NaN</td>\n",
       "      <td>NaN</td>\n",
       "      <td>NaN</td>\n",
       "    </tr>\n",
       "    <tr>\n",
       "      <th>5201731</th>\n",
       "      <td>NaN</td>\n",
       "      <td>NaN</td>\n",
       "      <td>NaN</td>\n",
       "      <td>NaN</td>\n",
       "    </tr>\n",
       "    <tr>\n",
       "      <th>5201734</th>\n",
       "      <td>NaN</td>\n",
       "      <td>NaN</td>\n",
       "      <td>NaN</td>\n",
       "      <td>NaN</td>\n",
       "    </tr>\n",
       "  </tbody>\n",
       "</table>\n",
       "<p>35894 rows × 4 columns</p>\n",
       "</div>"
      ],
      "text/plain": [
       "        acc1 acc2 acc3 acc4\n",
       "59851    NaN  NaN  NaN  NaN\n",
       "64487    NaN  NaN  NaN  NaN\n",
       "64490    NaN  NaN  NaN  NaN\n",
       "64751    NaN  NaN  NaN  NaN\n",
       "64754    NaN  NaN  NaN  NaN\n",
       "...      ...  ...  ...  ...\n",
       "5201052  NaN  NaN  NaN  NaN\n",
       "5201318  NaN  NaN  NaN  NaN\n",
       "5201321  NaN  NaN  NaN  NaN\n",
       "5201731  NaN  NaN  NaN  NaN\n",
       "5201734  NaN  NaN  NaN  NaN\n",
       "\n",
       "[35894 rows x 4 columns]"
      ]
     },
     "execution_count": 7,
     "metadata": {},
     "output_type": "execute_result"
    }
   ],
   "source": [
    "codes = pd.DataFrame(index=times_list,columns=['10C', '10D', '111', '104', '24', '11', '10', 'A', 'B', 'C',\n",
    "       'D', 'F'])\n",
    "codes\n",
    "\n",
    "acc = pd.DataFrame(index=times_list,columns=['acc1','acc2','acc3','acc4'])\n",
    "acc"
   ]
  },
  {
   "cell_type": "markdown",
   "id": "abd74fb7-0673-4edb-9a63-3ecde0526220",
   "metadata": {},
   "source": [
    "Here is a full set of data returned from the OBDII port. Notice how often code 20 shows up."
   ]
  },
  {
   "cell_type": "code",
   "execution_count": 8,
   "id": "5d533e83-9d30-443f-97d2-8e0835e9af65",
   "metadata": {},
   "outputs": [
    {
     "data": {
      "text/html": [
       "<div>\n",
       "<style scoped>\n",
       "    .dataframe tbody tr th:only-of-type {\n",
       "        vertical-align: middle;\n",
       "    }\n",
       "\n",
       "    .dataframe tbody tr th {\n",
       "        vertical-align: top;\n",
       "    }\n",
       "\n",
       "    .dataframe thead th {\n",
       "        text-align: right;\n",
       "    }\n",
       "</style>\n",
       "<table border=\"1\" class=\"dataframe\">\n",
       "  <thead>\n",
       "    <tr style=\"text-align: right;\">\n",
       "      <th></th>\n",
       "      <th>time</th>\n",
       "      <th>code</th>\n",
       "      <th>value</th>\n",
       "    </tr>\n",
       "  </thead>\n",
       "  <tbody>\n",
       "    <tr>\n",
       "      <th>0</th>\n",
       "      <td>59851</td>\n",
       "      <td>10C</td>\n",
       "      <td>902</td>\n",
       "    </tr>\n",
       "    <tr>\n",
       "      <th>1</th>\n",
       "      <td>59851</td>\n",
       "      <td>20</td>\n",
       "      <td>0;-1;-1</td>\n",
       "    </tr>\n",
       "    <tr>\n",
       "      <th>2</th>\n",
       "      <td>59851</td>\n",
       "      <td>10D</td>\n",
       "      <td>0</td>\n",
       "    </tr>\n",
       "    <tr>\n",
       "      <th>3</th>\n",
       "      <td>59851</td>\n",
       "      <td>20</td>\n",
       "      <td>0;0;0</td>\n",
       "    </tr>\n",
       "    <tr>\n",
       "      <th>4</th>\n",
       "      <td>59851</td>\n",
       "      <td>111</td>\n",
       "      <td>17</td>\n",
       "    </tr>\n",
       "    <tr>\n",
       "      <th>5</th>\n",
       "      <td>59851</td>\n",
       "      <td>20</td>\n",
       "      <td>0;0;0</td>\n",
       "    </tr>\n",
       "    <tr>\n",
       "      <th>6</th>\n",
       "      <td>59851</td>\n",
       "      <td>104</td>\n",
       "      <td>27</td>\n",
       "    </tr>\n",
       "    <tr>\n",
       "      <th>7</th>\n",
       "      <td>59851</td>\n",
       "      <td>20</td>\n",
       "      <td>0;1;0</td>\n",
       "    </tr>\n",
       "    <tr>\n",
       "      <th>8</th>\n",
       "      <td>59851</td>\n",
       "      <td>24</td>\n",
       "      <td>1463</td>\n",
       "    </tr>\n",
       "  </tbody>\n",
       "</table>\n",
       "</div>"
      ],
      "text/plain": [
       "    time code    value\n",
       "0  59851  10C      902\n",
       "1  59851   20  0;-1;-1\n",
       "2  59851  10D        0\n",
       "3  59851   20    0;0;0\n",
       "4  59851  111       17\n",
       "5  59851   20    0;0;0\n",
       "6  59851  104       27\n",
       "7  59851   20    0;1;0\n",
       "8  59851   24     1463"
      ]
     },
     "execution_count": 8,
     "metadata": {},
     "output_type": "execute_result"
    }
   ],
   "source": [
    "df.loc[df['time'] == times_list[0]]"
   ]
  },
  {
   "cell_type": "code",
   "execution_count": 9,
   "id": "f1af1831-9c41-482b-9e83-a5c213fe7200",
   "metadata": {},
   "outputs": [],
   "source": [
    "from tqdm.notebook import tqdm_notebook\n",
    "import time"
   ]
  },
  {
   "cell_type": "markdown",
   "id": "b1a4f043-5fec-4b47-abe0-586077c284ae",
   "metadata": {},
   "source": [
    "This function iterates through the list of unique times. Then, looks at the data at that time. If the code is 20, the value is acceleration data and gets put in that dataframe. Everything else gets put in the codes dataframe."
   ]
  },
  {
   "cell_type": "code",
   "execution_count": 10,
   "id": "571c3e1e-0b94-48a6-9129-f1e330fa18f2",
   "metadata": {},
   "outputs": [],
   "source": [
    "def first_process(df,times_list,codes,acc):\n",
    "\n",
    "    for time in tqdm_notebook(times_list):\n",
    "\n",
    "        accel = 1\n",
    "        timedf = df.loc[df['time'] == time].copy().reset_index()\n",
    "        for row, val in enumerate(timedf['code']):\n",
    "\n",
    "            if val == '20':\n",
    "                #put in other dataframe\n",
    "                acc['acc' + str(accel)][time] = timedf['value'][row]\n",
    "                accel = accel + 1\n",
    "            else:\n",
    "                codes[val][time] = timedf['value'][row]\n",
    "                \n",
    "    return df, times_list, codes, acc"
   ]
  },
  {
   "cell_type": "code",
   "execution_count": 11,
   "id": "5e0d68fd-0e0b-4078-9965-e15e3d563c1e",
   "metadata": {},
   "outputs": [
    {
     "data": {
      "application/vnd.jupyter.widget-view+json": {
       "model_id": "0876ba302e2f40bb8cb8cb702a36c9c7",
       "version_major": 2,
       "version_minor": 0
      },
      "text/plain": [
       "  0%|          | 0/35894 [00:00<?, ?it/s]"
      ]
     },
     "metadata": {},
     "output_type": "display_data"
    }
   ],
   "source": [
    "df, times_list, codes, acc = first_process(df,times_list,codes,acc)"
   ]
  },
  {
   "cell_type": "code",
   "execution_count": 12,
   "id": "0561d04c-267b-4dd9-b37c-3a39e4dc8501",
   "metadata": {},
   "outputs": [],
   "source": [
    "conv_codes = codes\n",
    "conv_acc = acc"
   ]
  },
  {
   "cell_type": "markdown",
   "id": "81515dce-193a-4755-91b6-8da667a0585a",
   "metadata": {},
   "source": [
    "Some of the data are NaN because that data was not returned for that time. For the first time, car data from the OBDII data is returned, but no the gps data. Then, the next time includes gps data and not the car's OBDII data."
   ]
  },
  {
   "cell_type": "code",
   "execution_count": 13,
   "id": "f9e66990-a476-43fe-a9ab-2ea842b67f61",
   "metadata": {},
   "outputs": [
    {
     "data": {
      "text/html": [
       "<div>\n",
       "<style scoped>\n",
       "    .dataframe tbody tr th:only-of-type {\n",
       "        vertical-align: middle;\n",
       "    }\n",
       "\n",
       "    .dataframe tbody tr th {\n",
       "        vertical-align: top;\n",
       "    }\n",
       "\n",
       "    .dataframe thead th {\n",
       "        text-align: right;\n",
       "    }\n",
       "</style>\n",
       "<table border=\"1\" class=\"dataframe\">\n",
       "  <thead>\n",
       "    <tr style=\"text-align: right;\">\n",
       "      <th></th>\n",
       "      <th>10C</th>\n",
       "      <th>10D</th>\n",
       "      <th>111</th>\n",
       "      <th>104</th>\n",
       "      <th>24</th>\n",
       "      <th>11</th>\n",
       "      <th>10</th>\n",
       "      <th>A</th>\n",
       "      <th>B</th>\n",
       "      <th>C</th>\n",
       "      <th>D</th>\n",
       "      <th>F</th>\n",
       "    </tr>\n",
       "  </thead>\n",
       "  <tbody>\n",
       "    <tr>\n",
       "      <th>59851</th>\n",
       "      <td>902</td>\n",
       "      <td>0</td>\n",
       "      <td>17</td>\n",
       "      <td>27</td>\n",
       "      <td>1463</td>\n",
       "      <td>NaN</td>\n",
       "      <td>NaN</td>\n",
       "      <td>NaN</td>\n",
       "      <td>NaN</td>\n",
       "      <td>NaN</td>\n",
       "      <td>NaN</td>\n",
       "      <td>NaN</td>\n",
       "    </tr>\n",
       "    <tr>\n",
       "      <th>64487</th>\n",
       "      <td>NaN</td>\n",
       "      <td>NaN</td>\n",
       "      <td>NaN</td>\n",
       "      <td>NaN</td>\n",
       "      <td>NaN</td>\n",
       "      <td>191121</td>\n",
       "      <td>18152140</td>\n",
       "      <td>33464435</td>\n",
       "      <td>-86723838</td>\n",
       "      <td>184</td>\n",
       "      <td>377</td>\n",
       "      <td>4</td>\n",
       "    </tr>\n",
       "    <tr>\n",
       "      <th>64490</th>\n",
       "      <td>908</td>\n",
       "      <td>0</td>\n",
       "      <td>16</td>\n",
       "      <td>27</td>\n",
       "      <td>1463</td>\n",
       "      <td>NaN</td>\n",
       "      <td>NaN</td>\n",
       "      <td>NaN</td>\n",
       "      <td>NaN</td>\n",
       "      <td>NaN</td>\n",
       "      <td>NaN</td>\n",
       "      <td>NaN</td>\n",
       "    </tr>\n",
       "    <tr>\n",
       "      <th>64751</th>\n",
       "      <td>NaN</td>\n",
       "      <td>NaN</td>\n",
       "      <td>NaN</td>\n",
       "      <td>NaN</td>\n",
       "      <td>NaN</td>\n",
       "      <td>NaN</td>\n",
       "      <td>18152160</td>\n",
       "      <td>33464435</td>\n",
       "      <td>-86723836</td>\n",
       "      <td>184</td>\n",
       "      <td>323</td>\n",
       "      <td>4</td>\n",
       "    </tr>\n",
       "    <tr>\n",
       "      <th>64754</th>\n",
       "      <td>909</td>\n",
       "      <td>0</td>\n",
       "      <td>16</td>\n",
       "      <td>27</td>\n",
       "      <td>1457</td>\n",
       "      <td>NaN</td>\n",
       "      <td>NaN</td>\n",
       "      <td>NaN</td>\n",
       "      <td>NaN</td>\n",
       "      <td>NaN</td>\n",
       "      <td>NaN</td>\n",
       "      <td>NaN</td>\n",
       "    </tr>\n",
       "    <tr>\n",
       "      <th>...</th>\n",
       "      <td>...</td>\n",
       "      <td>...</td>\n",
       "      <td>...</td>\n",
       "      <td>...</td>\n",
       "      <td>...</td>\n",
       "      <td>...</td>\n",
       "      <td>...</td>\n",
       "      <td>...</td>\n",
       "      <td>...</td>\n",
       "      <td>...</td>\n",
       "      <td>...</td>\n",
       "      <td>...</td>\n",
       "    </tr>\n",
       "    <tr>\n",
       "      <th>5201052</th>\n",
       "      <td>0</td>\n",
       "      <td>0</td>\n",
       "      <td>32</td>\n",
       "      <td>0</td>\n",
       "      <td>1231</td>\n",
       "      <td>NaN</td>\n",
       "      <td>NaN</td>\n",
       "      <td>NaN</td>\n",
       "      <td>NaN</td>\n",
       "      <td>NaN</td>\n",
       "      <td>NaN</td>\n",
       "      <td>NaN</td>\n",
       "    </tr>\n",
       "    <tr>\n",
       "      <th>5201318</th>\n",
       "      <td>NaN</td>\n",
       "      <td>NaN</td>\n",
       "      <td>NaN</td>\n",
       "      <td>NaN</td>\n",
       "      <td>NaN</td>\n",
       "      <td>NaN</td>\n",
       "      <td>19405710</td>\n",
       "      <td>34075533</td>\n",
       "      <td>-87163657</td>\n",
       "      <td>184</td>\n",
       "      <td>107</td>\n",
       "      <td>12</td>\n",
       "    </tr>\n",
       "    <tr>\n",
       "      <th>5201321</th>\n",
       "      <td>0</td>\n",
       "      <td>0</td>\n",
       "      <td>32</td>\n",
       "      <td>NaN</td>\n",
       "      <td>1231</td>\n",
       "      <td>NaN</td>\n",
       "      <td>NaN</td>\n",
       "      <td>NaN</td>\n",
       "      <td>NaN</td>\n",
       "      <td>NaN</td>\n",
       "      <td>NaN</td>\n",
       "      <td>NaN</td>\n",
       "    </tr>\n",
       "    <tr>\n",
       "      <th>5201731</th>\n",
       "      <td>NaN</td>\n",
       "      <td>NaN</td>\n",
       "      <td>NaN</td>\n",
       "      <td>NaN</td>\n",
       "      <td>NaN</td>\n",
       "      <td>NaN</td>\n",
       "      <td>19405750</td>\n",
       "      <td>34075533</td>\n",
       "      <td>-87163657</td>\n",
       "      <td>184</td>\n",
       "      <td>53</td>\n",
       "      <td>12</td>\n",
       "    </tr>\n",
       "    <tr>\n",
       "      <th>5201734</th>\n",
       "      <td>NaN</td>\n",
       "      <td>NaN</td>\n",
       "      <td>NaN</td>\n",
       "      <td>NaN</td>\n",
       "      <td>NaN</td>\n",
       "      <td>NaN</td>\n",
       "      <td>NaN</td>\n",
       "      <td>NaN</td>\n",
       "      <td>NaN</td>\n",
       "      <td>NaN</td>\n",
       "      <td>NaN</td>\n",
       "      <td>NaN</td>\n",
       "    </tr>\n",
       "  </tbody>\n",
       "</table>\n",
       "<p>35894 rows × 12 columns</p>\n",
       "</div>"
      ],
      "text/plain": [
       "         10C  10D  111  104    24      11        10         A          B    C  \\\n",
       "59851    902    0   17   27  1463     NaN       NaN       NaN        NaN  NaN   \n",
       "64487    NaN  NaN  NaN  NaN   NaN  191121  18152140  33464435  -86723838  184   \n",
       "64490    908    0   16   27  1463     NaN       NaN       NaN        NaN  NaN   \n",
       "64751    NaN  NaN  NaN  NaN   NaN     NaN  18152160  33464435  -86723836  184   \n",
       "64754    909    0   16   27  1457     NaN       NaN       NaN        NaN  NaN   \n",
       "...      ...  ...  ...  ...   ...     ...       ...       ...        ...  ...   \n",
       "5201052    0    0   32    0  1231     NaN       NaN       NaN        NaN  NaN   \n",
       "5201318  NaN  NaN  NaN  NaN   NaN     NaN  19405710  34075533  -87163657  184   \n",
       "5201321    0    0   32  NaN  1231     NaN       NaN       NaN        NaN  NaN   \n",
       "5201731  NaN  NaN  NaN  NaN   NaN     NaN  19405750  34075533  -87163657  184   \n",
       "5201734  NaN  NaN  NaN  NaN   NaN     NaN       NaN       NaN        NaN  NaN   \n",
       "\n",
       "           D    F  \n",
       "59851    NaN  NaN  \n",
       "64487    377    4  \n",
       "64490    NaN  NaN  \n",
       "64751    323    4  \n",
       "64754    NaN  NaN  \n",
       "...      ...  ...  \n",
       "5201052  NaN  NaN  \n",
       "5201318  107   12  \n",
       "5201321  NaN  NaN  \n",
       "5201731   53   12  \n",
       "5201734  NaN  NaN  \n",
       "\n",
       "[35894 rows x 12 columns]"
      ]
     },
     "execution_count": 13,
     "metadata": {},
     "output_type": "execute_result"
    }
   ],
   "source": [
    "conv_codes"
   ]
  },
  {
   "cell_type": "markdown",
   "id": "2cd05eae-124f-4cbd-8ecb-e6b8f70763e5",
   "metadata": {},
   "source": [
    "Here is the acceleration data. The NaNs are times where gps data was returned and not OBDII data."
   ]
  },
  {
   "cell_type": "code",
   "execution_count": 14,
   "id": "00043cf4-2370-4a9a-a0a3-1f00511a635f",
   "metadata": {},
   "outputs": [
    {
     "data": {
      "text/html": [
       "<div>\n",
       "<style scoped>\n",
       "    .dataframe tbody tr th:only-of-type {\n",
       "        vertical-align: middle;\n",
       "    }\n",
       "\n",
       "    .dataframe tbody tr th {\n",
       "        vertical-align: top;\n",
       "    }\n",
       "\n",
       "    .dataframe thead th {\n",
       "        text-align: right;\n",
       "    }\n",
       "</style>\n",
       "<table border=\"1\" class=\"dataframe\">\n",
       "  <thead>\n",
       "    <tr style=\"text-align: right;\">\n",
       "      <th></th>\n",
       "      <th>acc1</th>\n",
       "      <th>acc2</th>\n",
       "      <th>acc3</th>\n",
       "      <th>acc4</th>\n",
       "    </tr>\n",
       "  </thead>\n",
       "  <tbody>\n",
       "    <tr>\n",
       "      <th>59851</th>\n",
       "      <td>0;-1;-1</td>\n",
       "      <td>0;0;0</td>\n",
       "      <td>0;0;0</td>\n",
       "      <td>0;1;0</td>\n",
       "    </tr>\n",
       "    <tr>\n",
       "      <th>64487</th>\n",
       "      <td>NaN</td>\n",
       "      <td>NaN</td>\n",
       "      <td>NaN</td>\n",
       "      <td>NaN</td>\n",
       "    </tr>\n",
       "    <tr>\n",
       "      <th>64490</th>\n",
       "      <td>0;-1;-2</td>\n",
       "      <td>-2;0;0</td>\n",
       "      <td>0;-1;0</td>\n",
       "      <td>0;0;0</td>\n",
       "    </tr>\n",
       "    <tr>\n",
       "      <th>64751</th>\n",
       "      <td>NaN</td>\n",
       "      <td>NaN</td>\n",
       "      <td>NaN</td>\n",
       "      <td>NaN</td>\n",
       "    </tr>\n",
       "    <tr>\n",
       "      <th>64754</th>\n",
       "      <td>0;0;-1</td>\n",
       "      <td>0;0;0</td>\n",
       "      <td>0;0;0</td>\n",
       "      <td>0;1;0</td>\n",
       "    </tr>\n",
       "    <tr>\n",
       "      <th>...</th>\n",
       "      <td>...</td>\n",
       "      <td>...</td>\n",
       "      <td>...</td>\n",
       "      <td>...</td>\n",
       "    </tr>\n",
       "    <tr>\n",
       "      <th>5201052</th>\n",
       "      <td>-5;2;-1</td>\n",
       "      <td>-5;2;0</td>\n",
       "      <td>-4;2;-1</td>\n",
       "      <td>-5;3;-2</td>\n",
       "    </tr>\n",
       "    <tr>\n",
       "      <th>5201318</th>\n",
       "      <td>NaN</td>\n",
       "      <td>NaN</td>\n",
       "      <td>NaN</td>\n",
       "      <td>NaN</td>\n",
       "    </tr>\n",
       "    <tr>\n",
       "      <th>5201321</th>\n",
       "      <td>-5;2;0</td>\n",
       "      <td>-4;2;0</td>\n",
       "      <td>-4;2;-2</td>\n",
       "      <td>-5;4;-1</td>\n",
       "    </tr>\n",
       "    <tr>\n",
       "      <th>5201731</th>\n",
       "      <td>NaN</td>\n",
       "      <td>NaN</td>\n",
       "      <td>NaN</td>\n",
       "      <td>NaN</td>\n",
       "    </tr>\n",
       "    <tr>\n",
       "      <th>5201734</th>\n",
       "      <td>-5;3;0</td>\n",
       "      <td>-4;2;0</td>\n",
       "      <td>-5;3;0</td>\n",
       "      <td>-3;3;-1</td>\n",
       "    </tr>\n",
       "  </tbody>\n",
       "</table>\n",
       "<p>35894 rows × 4 columns</p>\n",
       "</div>"
      ],
      "text/plain": [
       "            acc1    acc2     acc3     acc4\n",
       "59851    0;-1;-1   0;0;0    0;0;0    0;1;0\n",
       "64487        NaN     NaN      NaN      NaN\n",
       "64490    0;-1;-2  -2;0;0   0;-1;0    0;0;0\n",
       "64751        NaN     NaN      NaN      NaN\n",
       "64754     0;0;-1   0;0;0    0;0;0    0;1;0\n",
       "...          ...     ...      ...      ...\n",
       "5201052  -5;2;-1  -5;2;0  -4;2;-1  -5;3;-2\n",
       "5201318      NaN     NaN      NaN      NaN\n",
       "5201321   -5;2;0  -4;2;0  -4;2;-2  -5;4;-1\n",
       "5201731      NaN     NaN      NaN      NaN\n",
       "5201734   -5;3;0  -4;2;0   -5;3;0  -3;3;-1\n",
       "\n",
       "[35894 rows x 4 columns]"
      ]
     },
     "execution_count": 14,
     "metadata": {},
     "output_type": "execute_result"
    }
   ],
   "source": [
    "conv_acc"
   ]
  },
  {
   "cell_type": "markdown",
   "id": "1d54cdc6-7983-49d4-8e78-f9d43786e014",
   "metadata": {},
   "source": [
    "I used a dictionary map to rename the columns from the codes to what they actually represent. \n",
    "\n",
    "Here is what the Freematics site says for the data:\n",
    "\n",
    "\n",
    "    0x104 – Engine load\n",
    "    0x105 – Engine coolant temperature\n",
    "    0x10a – Fuel pressure\n",
    "    0x10b – Intake manifold absolute pressure\n",
    "    0x10c – Engine RPM\n",
    "    0x10d – Vehicle speed\n",
    "    0x10e – Timing advance\n",
    "    0x10f – Intake air temperature\n",
    "    0x110 – MAF air flow rate\n",
    "    0x111 – Throttle position\n",
    "    0x11f – Run time since engine start\n",
    "    0x121 – Distance traveled with malfunction indicator lamp\n",
    "    0x12f – Fuel Level Input\n",
    "    0x131 – Distance traveled since codes cleared\n",
    "    0x133 – Barometric pressure\n",
    "    0x142 – Control module voltage\n",
    "    0x143 – Absolute load value\n",
    "    0x15b – Hybrid battery pack remaining life\n",
    "    0x15c – Engine oil temperature\n",
    "    0x15e – Engine fuel rate\n",
    "\n",
    "Custom defined PIDs in mode 0 (0~FF) which OBD-II does not use\n",
    "\n",
    "    0x11 – UTC Date (DDMMYY)\n",
    "    0x10 – UTC Time (HHMMSSmm)\n",
    "    0xA – Latitude\n",
    "    0xB – Longitude\n",
    "    0xC – Altitude (m)\n",
    "    0xD – Speed (km/h)\n",
    "    0xE – Course (degree)\n",
    "    0xF – Number of satellites in use\n",
    "    0x20 – Accelerometer data (x:y:z)\n",
    "    0x21- Gyroscope data (x:y:z)\n",
    "    0x22 – Magnitude field data (x/y/z)\n",
    "    0x23 – MEMS temperature (in 0.1 Celsius degree)\n",
    "    0x24 – Battery voltage (in 0.01V)\n",
    "    0x25 – Orientation data  (yaw/pitch/roll)\n",
    "    0x81 – Cellular network signal level (dB)\n",
    "    0x82 – CPU temperature (in 0.1 Celsius degree)\n",
    "    0x83 – CPU hall sensor data\n",
    "\n",
    "\n",
    "I do not have many of these. I used only the ones that exist in my data."
   ]
  },
  {
   "cell_type": "code",
   "execution_count": 15,
   "id": "b4a0414d-d878-4218-85e9-74a32fedbf32",
   "metadata": {},
   "outputs": [],
   "source": [
    "code_map = {'104':'engine_load','10C':'rpm','10D':'speed','111':'throt_pos','24':'bat_volt','11':'utcdate','10':'utctime',\n",
    "            'A':'lat','B':'long','C':'alt','D':'speed_kmph','F':'n_sats'}"
   ]
  },
  {
   "cell_type": "code",
   "execution_count": null,
   "id": "5f92b5b5-f1a9-4403-9c15-78ec34b8591c",
   "metadata": {},
   "outputs": [],
   "source": []
  },
  {
   "cell_type": "code",
   "execution_count": 16,
   "id": "14dc313f-7af2-4011-8d34-b26388703096",
   "metadata": {},
   "outputs": [],
   "source": [
    "conv_codes.columns = conv_codes.columns.map(code_map)"
   ]
  },
  {
   "cell_type": "markdown",
   "id": "13882027-5915-4f86-8a9b-3fe482febbb8",
   "metadata": {},
   "source": [
    "Now, I separate the gps data from the OBDII data, convert types to float, perform unit conversions, and drop the rows that don't contain data."
   ]
  },
  {
   "cell_type": "code",
   "execution_count": 17,
   "id": "6aae14cd-82ba-44a3-a157-db971733ad76",
   "metadata": {},
   "outputs": [],
   "source": [
    "obd_data = conv_codes[['rpm','speed','throt_pos','engine_load','bat_volt']]\n",
    "gps_data = conv_codes[['utcdate','utctime','lat','long','alt','speed_kmph','n_sats']]"
   ]
  },
  {
   "cell_type": "code",
   "execution_count": 18,
   "id": "8ceaef9b-643c-42fb-ab52-4262f729add8",
   "metadata": {},
   "outputs": [],
   "source": [
    "obd_data = obd_data.dropna(how='all')"
   ]
  },
  {
   "cell_type": "code",
   "execution_count": 19,
   "id": "300e7c26-72cb-4c0e-8a8a-9fb6d76929cf",
   "metadata": {},
   "outputs": [
    {
     "data": {
      "text/html": [
       "<div>\n",
       "<style scoped>\n",
       "    .dataframe tbody tr th:only-of-type {\n",
       "        vertical-align: middle;\n",
       "    }\n",
       "\n",
       "    .dataframe tbody tr th {\n",
       "        vertical-align: top;\n",
       "    }\n",
       "\n",
       "    .dataframe thead th {\n",
       "        text-align: right;\n",
       "    }\n",
       "</style>\n",
       "<table border=\"1\" class=\"dataframe\">\n",
       "  <thead>\n",
       "    <tr style=\"text-align: right;\">\n",
       "      <th></th>\n",
       "      <th>rpm</th>\n",
       "      <th>speed</th>\n",
       "      <th>throt_pos</th>\n",
       "      <th>engine_load</th>\n",
       "      <th>bat_volt</th>\n",
       "    </tr>\n",
       "  </thead>\n",
       "  <tbody>\n",
       "    <tr>\n",
       "      <th>478963</th>\n",
       "      <td>3060.0</td>\n",
       "      <td>50.331051</td>\n",
       "      <td>66</td>\n",
       "      <td>100</td>\n",
       "      <td>14.40</td>\n",
       "    </tr>\n",
       "    <tr>\n",
       "      <th>479239</th>\n",
       "      <td>3244.0</td>\n",
       "      <td>50.952422</td>\n",
       "      <td>60</td>\n",
       "      <td>100</td>\n",
       "      <td>14.45</td>\n",
       "    </tr>\n",
       "    <tr>\n",
       "      <th>479511</th>\n",
       "      <td>3253.0</td>\n",
       "      <td>50.952422</td>\n",
       "      <td>52</td>\n",
       "      <td>100</td>\n",
       "      <td>14.38</td>\n",
       "    </tr>\n",
       "    <tr>\n",
       "      <th>479782</th>\n",
       "      <td>3278.0</td>\n",
       "      <td>52.195164</td>\n",
       "      <td>40</td>\n",
       "      <td>77</td>\n",
       "      <td>14.42</td>\n",
       "    </tr>\n",
       "    <tr>\n",
       "      <th>480052</th>\n",
       "      <td>3212.0</td>\n",
       "      <td>52.195164</td>\n",
       "      <td>38</td>\n",
       "      <td>64</td>\n",
       "      <td>14.42</td>\n",
       "    </tr>\n",
       "    <tr>\n",
       "      <th>480326</th>\n",
       "      <td>3240.0</td>\n",
       "      <td>52.816535</td>\n",
       "      <td>36</td>\n",
       "      <td>53</td>\n",
       "      <td>14.42</td>\n",
       "    </tr>\n",
       "    <tr>\n",
       "      <th>480601</th>\n",
       "      <td>3216.0</td>\n",
       "      <td>52.816535</td>\n",
       "      <td>34</td>\n",
       "      <td>50</td>\n",
       "      <td>14.37</td>\n",
       "    </tr>\n",
       "    <tr>\n",
       "      <th>480871</th>\n",
       "      <td>2703.0</td>\n",
       "      <td>52.816535</td>\n",
       "      <td>34</td>\n",
       "      <td>56</td>\n",
       "      <td>14.42</td>\n",
       "    </tr>\n",
       "    <tr>\n",
       "      <th>481140</th>\n",
       "      <td>2426.0</td>\n",
       "      <td>52.816535</td>\n",
       "      <td>34</td>\n",
       "      <td>56</td>\n",
       "      <td>14.39</td>\n",
       "    </tr>\n",
       "    <tr>\n",
       "      <th>481413</th>\n",
       "      <td>2435.0</td>\n",
       "      <td>52.816535</td>\n",
       "      <td>34</td>\n",
       "      <td>55</td>\n",
       "      <td>14.40</td>\n",
       "    </tr>\n",
       "  </tbody>\n",
       "</table>\n",
       "</div>"
      ],
      "text/plain": [
       "           rpm      speed throt_pos engine_load  bat_volt\n",
       "478963  3060.0  50.331051        66         100     14.40\n",
       "479239  3244.0  50.952422        60         100     14.45\n",
       "479511  3253.0  50.952422        52         100     14.38\n",
       "479782  3278.0  52.195164        40          77     14.42\n",
       "480052  3212.0  52.195164        38          64     14.42\n",
       "480326  3240.0  52.816535        36          53     14.42\n",
       "480601  3216.0  52.816535        34          50     14.37\n",
       "480871  2703.0  52.816535        34          56     14.42\n",
       "481140  2426.0  52.816535        34          56     14.39\n",
       "481413  2435.0  52.816535        34          55     14.40"
      ]
     },
     "execution_count": 19,
     "metadata": {},
     "output_type": "execute_result"
    }
   ],
   "source": [
    "obd_data['rpm'] = obd_data['rpm'].astype('float',errors='ignore')\n",
    "obd_data['speed'] = obd_data['speed'].astype('float',errors='ignore')\n",
    "obd_data['bat_volt'] = obd_data['bat_volt'].astype('float',errors='ignore')\n",
    "\n",
    "\n",
    "#convert to mph\n",
    "obd_data['speed'] = obd_data['speed'] * 0.621371\n",
    "#bat volt\n",
    "obd_data['bat_volt'] = obd_data['bat_volt'] / 100\n",
    "obd_data.loc[obd_data['speed'] > 50][:10]"
   ]
  },
  {
   "cell_type": "code",
   "execution_count": 20,
   "id": "84c8216d-c424-4a83-9dd9-d0e1654babf8",
   "metadata": {},
   "outputs": [
    {
     "data": {
      "image/png": "[encoded data removed]",
      "text/plain": [
       "<Figure size 432x288 with 1 Axes>"
      ]
     },
     "metadata": {
      "needs_background": "light"
     },
     "output_type": "display_data"
    }
   ],
   "source": [
    "obd_data.speed.hist()\n",
    "plt.show()"
   ]
  },
  {
   "cell_type": "markdown",
   "id": "c207af46-c679-4988-8f83-f570498a11ea",
   "metadata": {},
   "source": [
    "This seems like a reasonable distribution. The max is 93 mph, a bit high but lets see how long I was above 90 mph."
   ]
  },
  {
   "cell_type": "code",
   "execution_count": 21,
   "id": "f1766b93-6992-4740-9b22-6069f0f8fb7c",
   "metadata": {},
   "outputs": [
    {
     "data": {
      "text/plain": [
       "90.720166"
      ]
     },
     "execution_count": 21,
     "metadata": {},
     "output_type": "execute_result"
    }
   ],
   "source": [
    "obd_data.speed.max()"
   ]
  },
  {
   "cell_type": "code",
   "execution_count": 22,
   "id": "145c1daf-558a-41ea-b8ed-fcb912116466",
   "metadata": {},
   "outputs": [],
   "source": [
    "duration_90 = obd_data.loc[obd_data.speed > 90].index.max() - obd_data.loc[obd_data.speed > 90].index.min()\n",
    "#convert milliseconds to seconds\n",
    "time_sec = duration_90 * 0.001"
   ]
  },
  {
   "cell_type": "code",
   "execution_count": 23,
   "id": "0bb9bacc-dd3a-40dd-9130-5b6da7174c9a",
   "metadata": {},
   "outputs": [
    {
     "data": {
      "text/plain": [
       "1.952"
      ]
     },
     "execution_count": 23,
     "metadata": {},
     "output_type": "execute_result"
    }
   ],
   "source": [
    "time_sec"
   ]
  },
  {
   "cell_type": "code",
   "execution_count": 24,
   "id": "e068729e-86c6-4576-8274-4ad6eca5a7e0",
   "metadata": {},
   "outputs": [],
   "source": [
    "start = obd_data.index[0]"
   ]
  },
  {
   "cell_type": "code",
   "execution_count": 25,
   "id": "cd1396eb-dea9-45a2-a3fc-b9f451223221",
   "metadata": {},
   "outputs": [],
   "source": [
    "end = obd_data.index[-1]"
   ]
  },
  {
   "cell_type": "code",
   "execution_count": 26,
   "id": "9015b546-467b-41a4-ba78-c643fb83115e",
   "metadata": {},
   "outputs": [],
   "source": [
    "duration = (end - start) * 0.001"
   ]
  },
  {
   "cell_type": "code",
   "execution_count": 27,
   "id": "d3acb501-6ede-42c5-b8ff-397cdd6e4870",
   "metadata": {},
   "outputs": [
    {
     "data": {
      "text/plain": [
       "1.4281861111111112"
      ]
     },
     "execution_count": 27,
     "metadata": {},
     "output_type": "execute_result"
    }
   ],
   "source": [
    "duration / 3600"
   ]
  },
  {
   "cell_type": "markdown",
   "id": "5692639a-8bda-4be5-9e3c-e387050d6c6a",
   "metadata": {},
   "source": [
    "12 seconds! I was certainly passing a vehicle quickly."
   ]
  },
  {
   "cell_type": "code",
   "execution_count": 85,
   "id": "eb3ec871-c9ea-4775-b361-7912c3233f66",
   "metadata": {},
   "outputs": [
    {
     "data": {
      "text/plain": [
       "array([  64487,   64751,   65020, ..., 5201049, 5201318, 5201731],\n",
       "      dtype=int64)"
      ]
     },
     "execution_count": 85,
     "metadata": {},
     "output_type": "execute_result"
    }
   ],
   "source": [
    "gps_data.index.values"
   ]
  },
  {
   "cell_type": "markdown",
   "id": "b0a48aab-37b6-45ec-8c31-2a76fbe7a034",
   "metadata": {},
   "source": [
    "Here is where I do conversions for the gps data and drop rows with no data."
   ]
  },
  {
   "cell_type": "code",
   "execution_count": 28,
   "id": "e884b567-4ea6-49fa-8286-ecf135f3e837",
   "metadata": {
    "tags": []
   },
   "outputs": [
    {
     "name": "stderr",
     "output_type": "stream",
     "text": [
      "<ipython-input-28-43edf39e9a99>:1: SettingWithCopyWarning: \n",
      "A value is trying to be set on a copy of a slice from a DataFrame.\n",
      "Try using .loc[row_indexer,col_indexer] = value instead\n",
      "\n",
      "See the caveats in the documentation: https://pandas.pydata.org/pandas-docs/stable/user_guide/indexing.html#returning-a-view-versus-a-copy\n",
      "  gps_data['lat'] = gps_data['lat'].astype('float',errors='ignore')\n",
      "<ipython-input-28-43edf39e9a99>:2: SettingWithCopyWarning: \n",
      "A value is trying to be set on a copy of a slice from a DataFrame.\n",
      "Try using .loc[row_indexer,col_indexer] = value instead\n",
      "\n",
      "See the caveats in the documentation: https://pandas.pydata.org/pandas-docs/stable/user_guide/indexing.html#returning-a-view-versus-a-copy\n",
      "  gps_data['long'] = gps_data['long'].astype('float',errors='ignore')\n",
      "<ipython-input-28-43edf39e9a99>:3: SettingWithCopyWarning: \n",
      "A value is trying to be set on a copy of a slice from a DataFrame.\n",
      "Try using .loc[row_indexer,col_indexer] = value instead\n",
      "\n",
      "See the caveats in the documentation: https://pandas.pydata.org/pandas-docs/stable/user_guide/indexing.html#returning-a-view-versus-a-copy\n",
      "  gps_data['speed_kmph'] = gps_data['speed_kmph'].astype('float',errors='ignore')\n",
      "<ipython-input-28-43edf39e9a99>:4: SettingWithCopyWarning: \n",
      "A value is trying to be set on a copy of a slice from a DataFrame.\n",
      "Try using .loc[row_indexer,col_indexer] = value instead\n",
      "\n",
      "See the caveats in the documentation: https://pandas.pydata.org/pandas-docs/stable/user_guide/indexing.html#returning-a-view-versus-a-copy\n",
      "  gps_data['speed_kmph'] = gps_data['speed_kmph'] * 0.621371\n",
      "C:\\Users\\umbac\\anaconda3\\lib\\site-packages\\pandas\\core\\frame.py:4441: SettingWithCopyWarning: \n",
      "A value is trying to be set on a copy of a slice from a DataFrame\n",
      "\n",
      "See the caveats in the documentation: https://pandas.pydata.org/pandas-docs/stable/user_guide/indexing.html#returning-a-view-versus-a-copy\n",
      "  return super().rename(\n",
      "<ipython-input-28-43edf39e9a99>:9: SettingWithCopyWarning: \n",
      "A value is trying to be set on a copy of a slice from a DataFrame.\n",
      "Try using .loc[row_indexer,col_indexer] = value instead\n",
      "\n",
      "See the caveats in the documentation: https://pandas.pydata.org/pandas-docs/stable/user_guide/indexing.html#returning-a-view-versus-a-copy\n",
      "  gps_data['lat'] = gps_data['lat'] / 1000000\n",
      "<ipython-input-28-43edf39e9a99>:10: SettingWithCopyWarning: \n",
      "A value is trying to be set on a copy of a slice from a DataFrame.\n",
      "Try using .loc[row_indexer,col_indexer] = value instead\n",
      "\n",
      "See the caveats in the documentation: https://pandas.pydata.org/pandas-docs/stable/user_guide/indexing.html#returning-a-view-versus-a-copy\n",
      "  gps_data['long'] = gps_data['long'] / 1000000\n"
     ]
    }
   ],
   "source": [
    "gps_data['lat'] = gps_data['lat'].astype('float',errors='ignore')\n",
    "gps_data['long'] = gps_data['long'].astype('float',errors='ignore')\n",
    "gps_data['speed_kmph'] = gps_data['speed_kmph'].astype('float',errors='ignore')\n",
    "gps_data['speed_kmph'] = gps_data['speed_kmph'] * 0.621371\n",
    "\n",
    "gps_data.rename(columns={'speed_kmph':'speed_mph'},inplace=True)\n",
    "\n",
    "#div lat and long my 1mil to get right number\n",
    "gps_data['lat'] = gps_data['lat'] / 1000000\n",
    "gps_data['long'] = gps_data['long'] / 1000000\n",
    "\n",
    "\n",
    "gps_data = gps_data.dropna(how='all')\n",
    "\n"
   ]
  },
  {
   "cell_type": "code",
   "execution_count": 29,
   "id": "d118745c-d237-4353-8685-1dad86b434f2",
   "metadata": {},
   "outputs": [
    {
     "data": {
      "text/html": [
       "<div>\n",
       "<style scoped>\n",
       "    .dataframe tbody tr th:only-of-type {\n",
       "        vertical-align: middle;\n",
       "    }\n",
       "\n",
       "    .dataframe tbody tr th {\n",
       "        vertical-align: top;\n",
       "    }\n",
       "\n",
       "    .dataframe thead th {\n",
       "        text-align: right;\n",
       "    }\n",
       "</style>\n",
       "<table border=\"1\" class=\"dataframe\">\n",
       "  <thead>\n",
       "    <tr style=\"text-align: right;\">\n",
       "      <th></th>\n",
       "      <th>utcdate</th>\n",
       "      <th>utctime</th>\n",
       "      <th>lat</th>\n",
       "      <th>long</th>\n",
       "      <th>alt</th>\n",
       "      <th>speed_mph</th>\n",
       "      <th>n_sats</th>\n",
       "    </tr>\n",
       "  </thead>\n",
       "  <tbody>\n",
       "    <tr>\n",
       "      <th>1773459</th>\n",
       "      <td>NaN</td>\n",
       "      <td>40</td>\n",
       "      <td>0.0</td>\n",
       "      <td>0.0</td>\n",
       "      <td>0</td>\n",
       "      <td>2079.728737</td>\n",
       "      <td>0</td>\n",
       "    </tr>\n",
       "  </tbody>\n",
       "</table>\n",
       "</div>"
      ],
      "text/plain": [
       "        utcdate utctime  lat  long alt    speed_mph n_sats\n",
       "1773459     NaN      40  0.0   0.0   0  2079.728737      0"
      ]
     },
     "execution_count": 29,
     "metadata": {},
     "output_type": "execute_result"
    }
   ],
   "source": [
    "gps_data.loc[gps_data.utctime == '40']"
   ]
  },
  {
   "cell_type": "code",
   "execution_count": 30,
   "id": "a961bee3-c0d6-4509-8ea9-0a1964bcbe35",
   "metadata": {},
   "outputs": [
    {
     "data": {
      "text/plain": [
       "'40'"
      ]
     },
     "execution_count": 30,
     "metadata": {},
     "output_type": "execute_result"
    }
   ],
   "source": [
    "gps_data['utctime'][1773459]"
   ]
  },
  {
   "cell_type": "code",
   "execution_count": 50,
   "id": "457dffd7-8969-4b19-b359-9f7c557b84d9",
   "metadata": {},
   "outputs": [],
   "source": [
    "from datetime import datetime"
   ]
  },
  {
   "cell_type": "code",
   "execution_count": 65,
   "id": "59668de7-4320-4387-89a6-e10bc49b0a38",
   "metadata": {},
   "outputs": [
    {
     "data": {
      "text/plain": [
       "Timestamp('2021-11-19 00:00:00')"
      ]
     },
     "execution_count": 65,
     "metadata": {},
     "output_type": "execute_result"
    }
   ],
   "source": [
    "gps_data['utcdate'].iloc[0]"
   ]
  },
  {
   "cell_type": "markdown",
   "id": "d81c9ab2-9ebb-4240-8047-2ee389c559ca",
   "metadata": {},
   "source": [
    "The UTC date is written once while the time is continous. I define the formats below and convert them to date time."
   ]
  },
  {
   "cell_type": "code",
   "execution_count": 67,
   "id": "df85bf32-bdb8-4182-a465-14a8cc652378",
   "metadata": {},
   "outputs": [],
   "source": [
    "#get utc date\n",
    "utc_date_format = '%d%m%y'\n",
    "utc_time_format = '%H%M%S%f'\n",
    "\n",
    "#apply formats\n",
    "date = gps_data['utcdate'].iloc[0]\n",
    "gps_data['utcdate'] = pd.to_datetime(gps_data['utcdate'].iloc[0],format=utc_date_format)\n",
    "\n",
    "gps_data['utcdate'] = gps_data['utcdate'].iloc[0]\n",
    "\n",
    "gps_data['utctime'] = pd.to_datetime(gps_data['utctime'],format=utc_time_format,errors='coerce')"
   ]
  },
  {
   "cell_type": "code",
   "execution_count": 68,
   "id": "16082e91-680f-4bd6-b3bc-32e17ec0c3f0",
   "metadata": {},
   "outputs": [
    {
     "data": {
      "text/plain": [
       "array(['2021-11-19T00:00:00.000000000'], dtype='datetime64[ns]')"
      ]
     },
     "execution_count": 68,
     "metadata": {},
     "output_type": "execute_result"
    }
   ],
   "source": [
    "gps_data['utcdate'].unique()"
   ]
  },
  {
   "cell_type": "code",
   "execution_count": 69,
   "id": "de427545-6bf9-4f93-9d2c-ee022081a3e3",
   "metadata": {},
   "outputs": [],
   "source": [
    "#get rid of the leading date for utctime\n",
    "gps_data['utctime'] = pd.DatetimeIndex(gps_data['utctime']).time"
   ]
  },
  {
   "cell_type": "code",
   "execution_count": null,
   "id": "1c788bbb-a9cc-4d33-a18b-422850888a5f",
   "metadata": {},
   "outputs": [],
   "source": []
  },
  {
   "cell_type": "code",
   "execution_count": 70,
   "id": "249f8b42-1bd3-4cd6-8dd2-75493317300a",
   "metadata": {},
   "outputs": [
    {
     "data": {
      "image/png": "[encoded data removed]",
      "text/plain": [
       "<Figure size 432x288 with 1 Axes>"
      ]
     },
     "metadata": {
      "needs_background": "light"
     },
     "output_type": "display_data"
    }
   ],
   "source": [
    "gps_data.speed_mph.hist()\n",
    "plt.show()"
   ]
  },
  {
   "cell_type": "markdown",
   "id": "2f50a462-9642-4ebd-8b81-dba6ddf3371f",
   "metadata": {},
   "source": [
    "I am having some trouble with the units for the units on the gps speed. I will have to look into how the receiver reports data. I started plotting the location and speed from the gps and then put it over a map."
   ]
  },
  {
   "cell_type": "markdown",
   "id": "59fabaca-980e-4053-9e6f-ff16720d3ecb",
   "metadata": {},
   "source": [
    "Now, I am going to make a new folder in this directory for each car trip. The name of the folder will be the start date and time.\n"
   ]
  },
  {
   "cell_type": "code",
   "execution_count": 71,
   "id": "82145d04-f4b0-4b5a-8a71-acd1c0010afb",
   "metadata": {},
   "outputs": [],
   "source": [
    "import os"
   ]
  },
  {
   "cell_type": "code",
   "execution_count": 72,
   "id": "22402257-28d3-4f10-ae9a-e646b9ffb884",
   "metadata": {},
   "outputs": [
    {
     "data": {
      "text/plain": [
       "64487"
      ]
     },
     "execution_count": 72,
     "metadata": {},
     "output_type": "execute_result"
    }
   ],
   "source": [
    "gps_data.index[0]"
   ]
  },
  {
   "cell_type": "code",
   "execution_count": 73,
   "id": "64a50706-7c71-45a1-a352-8e03690b1c52",
   "metadata": {},
   "outputs": [],
   "source": [
    "time_str = str(gps_data['utctime'][gps_data.index[0]])\n",
    "hour = time_str[:2]\n",
    "minute = time_str[3:5]\n",
    "second = time_str[6:8]"
   ]
  },
  {
   "cell_type": "code",
   "execution_count": 74,
   "id": "fafb646b-a6bf-4091-8b0d-1d0dba0ba3b2",
   "metadata": {},
   "outputs": [
    {
     "data": {
      "text/plain": [
       "''"
      ]
     },
     "execution_count": 74,
     "metadata": {},
     "output_type": "execute_result"
    }
   ],
   "source": [
    "second"
   ]
  },
  {
   "cell_type": "code",
   "execution_count": 75,
   "id": "066a1a2b-b49a-4cde-be7e-ae89fa4a5e34",
   "metadata": {},
   "outputs": [],
   "source": [
    "date_str = str(gps_data['utcdate'][gps_data.index[0]])[:10]"
   ]
  },
  {
   "cell_type": "code",
   "execution_count": 76,
   "id": "b3b09d92-a031-4fb2-abec-6169f4499fed",
   "metadata": {},
   "outputs": [],
   "source": [
    "folder_path = date_str + '__' + hour + '-' + minute + '-' + second"
   ]
  },
  {
   "cell_type": "code",
   "execution_count": 77,
   "id": "b8f1f16a-ceb5-40d8-959a-42831deeba16",
   "metadata": {},
   "outputs": [],
   "source": [
    "if not os.path.exists(folder_path):\n",
    "    os.makedirs(folder_path)"
   ]
  },
  {
   "cell_type": "markdown",
   "id": "5e52d72d-b04c-4135-ae1c-f78fce15c93c",
   "metadata": {},
   "source": [
    "Now, save dataframes with new names."
   ]
  },
  {
   "cell_type": "code",
   "execution_count": 78,
   "id": "414a1585-e839-4061-8760-1035416c88ee",
   "metadata": {},
   "outputs": [],
   "source": [
    "gps_data.to_csv(f'{folder_path}/gps_data_{date_str}.csv')\n",
    "acc.to_csv(f'{folder_path}/acc_data_{date_str}.csv')\n",
    "obd_data.to_csv(f'{folder_path}/obd_data_{date_str}.csv')"
   ]
  },
  {
   "cell_type": "markdown",
   "id": "f6f6a316-27e3-4361-a280-d05b135f7e69",
   "metadata": {},
   "source": [
    "Next, I would like to use reverse_geocode to find the start and end points for each trip. I think I could sort each one according to those points. Then, I would like to calculate average stats across each trip. I could calculate an average time and compare that to the time of day.\n",
    "\n",
    "I would also like to try to plot using google maps so that I can see a whole trip."
   ]
  },
  {
   "cell_type": "code",
   "execution_count": 79,
   "id": "e5faebc3-46f2-49fc-a1fe-c99ca5c04ec2",
   "metadata": {},
   "outputs": [],
   "source": [
    "#make folder without lat and long that I can upload"
   ]
  },
  {
   "cell_type": "code",
   "execution_count": 80,
   "id": "6581da8f-3e98-4eaa-8df1-d93ade9b5f42",
   "metadata": {},
   "outputs": [],
   "source": [
    "folder_path = date_str + '__' + hour + '-' + minute + '-' + second + '_sans_location'"
   ]
  },
  {
   "cell_type": "code",
   "execution_count": 81,
   "id": "bc34077e-a32c-4372-9be5-d5baa2a4852f",
   "metadata": {},
   "outputs": [],
   "source": [
    "if not os.path.exists(folder_path):\n",
    "    os.makedirs(folder_path)"
   ]
  },
  {
   "cell_type": "code",
   "execution_count": 82,
   "id": "32da923d-01e1-4ae4-bfcd-62f8ed3c92d7",
   "metadata": {},
   "outputs": [
    {
     "ename": "KeyError",
     "evalue": "\"['lat' 'long'] not found in axis\"",
     "output_type": "error",
     "traceback": [
      "\u001b[1;31m---------------------------------------------------------------------------\u001b[0m",
      "\u001b[1;31mKeyError\u001b[0m                                  Traceback (most recent call last)",
      "\u001b[1;32m<ipython-input-82-4439e5138194>\u001b[0m in \u001b[0;36m<module>\u001b[1;34m\u001b[0m\n\u001b[1;32m----> 1\u001b[1;33m \u001b[0mgps_data\u001b[0m\u001b[1;33m.\u001b[0m\u001b[0mdrop\u001b[0m\u001b[1;33m(\u001b[0m\u001b[0mlabels\u001b[0m\u001b[1;33m=\u001b[0m\u001b[1;33m[\u001b[0m\u001b[1;34m'lat'\u001b[0m\u001b[1;33m,\u001b[0m\u001b[1;34m'long'\u001b[0m\u001b[1;33m]\u001b[0m\u001b[1;33m,\u001b[0m\u001b[0maxis\u001b[0m\u001b[1;33m=\u001b[0m\u001b[1;36m1\u001b[0m\u001b[1;33m,\u001b[0m\u001b[0minplace\u001b[0m\u001b[1;33m=\u001b[0m\u001b[1;32mTrue\u001b[0m\u001b[1;33m)\u001b[0m\u001b[1;33m\u001b[0m\u001b[1;33m\u001b[0m\u001b[0m\n\u001b[0m",
      "\u001b[1;32m~\\anaconda3\\lib\\site-packages\\pandas\\core\\frame.py\u001b[0m in \u001b[0;36mdrop\u001b[1;34m(self, labels, axis, index, columns, level, inplace, errors)\u001b[0m\n\u001b[0;32m   4306\u001b[0m                 \u001b[0mweight\u001b[0m  \u001b[1;36m1.0\u001b[0m     \u001b[1;36m0.8\u001b[0m\u001b[1;33m\u001b[0m\u001b[1;33m\u001b[0m\u001b[0m\n\u001b[0;32m   4307\u001b[0m         \"\"\"\n\u001b[1;32m-> 4308\u001b[1;33m         return super().drop(\n\u001b[0m\u001b[0;32m   4309\u001b[0m             \u001b[0mlabels\u001b[0m\u001b[1;33m=\u001b[0m\u001b[0mlabels\u001b[0m\u001b[1;33m,\u001b[0m\u001b[1;33m\u001b[0m\u001b[1;33m\u001b[0m\u001b[0m\n\u001b[0;32m   4310\u001b[0m             \u001b[0maxis\u001b[0m\u001b[1;33m=\u001b[0m\u001b[0maxis\u001b[0m\u001b[1;33m,\u001b[0m\u001b[1;33m\u001b[0m\u001b[1;33m\u001b[0m\u001b[0m\n",
      "\u001b[1;32m~\\anaconda3\\lib\\site-packages\\pandas\\core\\generic.py\u001b[0m in \u001b[0;36mdrop\u001b[1;34m(self, labels, axis, index, columns, level, inplace, errors)\u001b[0m\n\u001b[0;32m   4151\u001b[0m         \u001b[1;32mfor\u001b[0m \u001b[0maxis\u001b[0m\u001b[1;33m,\u001b[0m \u001b[0mlabels\u001b[0m \u001b[1;32min\u001b[0m \u001b[0maxes\u001b[0m\u001b[1;33m.\u001b[0m\u001b[0mitems\u001b[0m\u001b[1;33m(\u001b[0m\u001b[1;33m)\u001b[0m\u001b[1;33m:\u001b[0m\u001b[1;33m\u001b[0m\u001b[1;33m\u001b[0m\u001b[0m\n\u001b[0;32m   4152\u001b[0m             \u001b[1;32mif\u001b[0m \u001b[0mlabels\u001b[0m \u001b[1;32mis\u001b[0m \u001b[1;32mnot\u001b[0m \u001b[1;32mNone\u001b[0m\u001b[1;33m:\u001b[0m\u001b[1;33m\u001b[0m\u001b[1;33m\u001b[0m\u001b[0m\n\u001b[1;32m-> 4153\u001b[1;33m                 \u001b[0mobj\u001b[0m \u001b[1;33m=\u001b[0m \u001b[0mobj\u001b[0m\u001b[1;33m.\u001b[0m\u001b[0m_drop_axis\u001b[0m\u001b[1;33m(\u001b[0m\u001b[0mlabels\u001b[0m\u001b[1;33m,\u001b[0m \u001b[0maxis\u001b[0m\u001b[1;33m,\u001b[0m \u001b[0mlevel\u001b[0m\u001b[1;33m=\u001b[0m\u001b[0mlevel\u001b[0m\u001b[1;33m,\u001b[0m \u001b[0merrors\u001b[0m\u001b[1;33m=\u001b[0m\u001b[0merrors\u001b[0m\u001b[1;33m)\u001b[0m\u001b[1;33m\u001b[0m\u001b[1;33m\u001b[0m\u001b[0m\n\u001b[0m\u001b[0;32m   4154\u001b[0m \u001b[1;33m\u001b[0m\u001b[0m\n\u001b[0;32m   4155\u001b[0m         \u001b[1;32mif\u001b[0m \u001b[0minplace\u001b[0m\u001b[1;33m:\u001b[0m\u001b[1;33m\u001b[0m\u001b[1;33m\u001b[0m\u001b[0m\n",
      "\u001b[1;32m~\\anaconda3\\lib\\site-packages\\pandas\\core\\generic.py\u001b[0m in \u001b[0;36m_drop_axis\u001b[1;34m(self, labels, axis, level, errors)\u001b[0m\n\u001b[0;32m   4186\u001b[0m                 \u001b[0mnew_axis\u001b[0m \u001b[1;33m=\u001b[0m \u001b[0maxis\u001b[0m\u001b[1;33m.\u001b[0m\u001b[0mdrop\u001b[0m\u001b[1;33m(\u001b[0m\u001b[0mlabels\u001b[0m\u001b[1;33m,\u001b[0m \u001b[0mlevel\u001b[0m\u001b[1;33m=\u001b[0m\u001b[0mlevel\u001b[0m\u001b[1;33m,\u001b[0m \u001b[0merrors\u001b[0m\u001b[1;33m=\u001b[0m\u001b[0merrors\u001b[0m\u001b[1;33m)\u001b[0m\u001b[1;33m\u001b[0m\u001b[1;33m\u001b[0m\u001b[0m\n\u001b[0;32m   4187\u001b[0m             \u001b[1;32melse\u001b[0m\u001b[1;33m:\u001b[0m\u001b[1;33m\u001b[0m\u001b[1;33m\u001b[0m\u001b[0m\n\u001b[1;32m-> 4188\u001b[1;33m                 \u001b[0mnew_axis\u001b[0m \u001b[1;33m=\u001b[0m \u001b[0maxis\u001b[0m\u001b[1;33m.\u001b[0m\u001b[0mdrop\u001b[0m\u001b[1;33m(\u001b[0m\u001b[0mlabels\u001b[0m\u001b[1;33m,\u001b[0m \u001b[0merrors\u001b[0m\u001b[1;33m=\u001b[0m\u001b[0merrors\u001b[0m\u001b[1;33m)\u001b[0m\u001b[1;33m\u001b[0m\u001b[1;33m\u001b[0m\u001b[0m\n\u001b[0m\u001b[0;32m   4189\u001b[0m             \u001b[0mresult\u001b[0m \u001b[1;33m=\u001b[0m \u001b[0mself\u001b[0m\u001b[1;33m.\u001b[0m\u001b[0mreindex\u001b[0m\u001b[1;33m(\u001b[0m\u001b[1;33m**\u001b[0m\u001b[1;33m{\u001b[0m\u001b[0maxis_name\u001b[0m\u001b[1;33m:\u001b[0m \u001b[0mnew_axis\u001b[0m\u001b[1;33m}\u001b[0m\u001b[1;33m)\u001b[0m\u001b[1;33m\u001b[0m\u001b[1;33m\u001b[0m\u001b[0m\n\u001b[0;32m   4190\u001b[0m \u001b[1;33m\u001b[0m\u001b[0m\n",
      "\u001b[1;32m~\\anaconda3\\lib\\site-packages\\pandas\\core\\indexes\\base.py\u001b[0m in \u001b[0;36mdrop\u001b[1;34m(self, labels, errors)\u001b[0m\n\u001b[0;32m   5589\u001b[0m         \u001b[1;32mif\u001b[0m \u001b[0mmask\u001b[0m\u001b[1;33m.\u001b[0m\u001b[0many\u001b[0m\u001b[1;33m(\u001b[0m\u001b[1;33m)\u001b[0m\u001b[1;33m:\u001b[0m\u001b[1;33m\u001b[0m\u001b[1;33m\u001b[0m\u001b[0m\n\u001b[0;32m   5590\u001b[0m             \u001b[1;32mif\u001b[0m \u001b[0merrors\u001b[0m \u001b[1;33m!=\u001b[0m \u001b[1;34m\"ignore\"\u001b[0m\u001b[1;33m:\u001b[0m\u001b[1;33m\u001b[0m\u001b[1;33m\u001b[0m\u001b[0m\n\u001b[1;32m-> 5591\u001b[1;33m                 \u001b[1;32mraise\u001b[0m \u001b[0mKeyError\u001b[0m\u001b[1;33m(\u001b[0m\u001b[1;34mf\"{labels[mask]} not found in axis\"\u001b[0m\u001b[1;33m)\u001b[0m\u001b[1;33m\u001b[0m\u001b[1;33m\u001b[0m\u001b[0m\n\u001b[0m\u001b[0;32m   5592\u001b[0m             \u001b[0mindexer\u001b[0m \u001b[1;33m=\u001b[0m \u001b[0mindexer\u001b[0m\u001b[1;33m[\u001b[0m\u001b[1;33m~\u001b[0m\u001b[0mmask\u001b[0m\u001b[1;33m]\u001b[0m\u001b[1;33m\u001b[0m\u001b[1;33m\u001b[0m\u001b[0m\n\u001b[0;32m   5593\u001b[0m         \u001b[1;32mreturn\u001b[0m \u001b[0mself\u001b[0m\u001b[1;33m.\u001b[0m\u001b[0mdelete\u001b[0m\u001b[1;33m(\u001b[0m\u001b[0mindexer\u001b[0m\u001b[1;33m)\u001b[0m\u001b[1;33m\u001b[0m\u001b[1;33m\u001b[0m\u001b[0m\n",
      "\u001b[1;31mKeyError\u001b[0m: \"['lat' 'long'] not found in axis\""
     ]
    }
   ],
   "source": [
    "gps_data.drop(labels=['lat','long'],axis=1,inplace=True)"
   ]
  },
  {
   "cell_type": "code",
   "execution_count": 83,
   "id": "3b1dbbd6-3aed-410a-9f21-d5e20f133894",
   "metadata": {},
   "outputs": [],
   "source": [
    "gps_data.to_csv(f'{folder_path}/gps_data_{date_str}.csv')\n",
    "acc.to_csv(f'{folder_path}/acc_data_{date_str}.csv')\n",
    "obd_data.to_csv(f'{folder_path}/obd_data_{date_str}.csv')"
   ]
  },
  {
   "cell_type": "code",
   "execution_count": null,
   "id": "19de54c3-fe93-4a31-9c4f-9552c0a1ecd8",
   "metadata": {},
   "outputs": [],
   "source": []
  },
  {
   "cell_type": "code",
   "execution_count": null,
   "id": "2880294a-103d-41fb-b636-00498bff7408",
   "metadata": {},
   "outputs": [],
   "source": []
  }
 ],
 "metadata": {
  "kernelspec": {
   "display_name": "Python 3",
   "language": "python",
   "name": "python3"
  },
  "language_info": {
   "codemirror_mode": {
    "name": "ipython",
    "version": 3
   },
   "file_extension": ".py",
   "mimetype": "text/x-python",
   "name": "python",
   "nbconvert_exporter": "python",
   "pygments_lexer": "ipython3",
   "version": "3.8.8"
  }
 },
 "nbformat": 4,
 "nbformat_minor": 5
}
