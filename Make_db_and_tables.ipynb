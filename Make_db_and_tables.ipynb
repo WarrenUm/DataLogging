{
 "cells": [
  {
   "cell_type": "markdown",
   "id": "46f1cf67-122b-4ec7-9b33-e1087e5841de",
   "metadata": {},
   "source": [
    "Create log_data database and tables for each existing set of data. I will create the tables and define data types. I will need to add a datetime column to the existing csvs, make the duration index its own column, and add a trip id column as a primary key."
   ]
  },
  {
   "cell_type": "code",
   "execution_count": null,
   "id": "d7cc5724-a5c8-451f-a48f-77d3b9c1d7df",
   "metadata": {},
   "outputs": [],
   "source": [
    "import sqlite3\n",
    "from sqlite3 import Error"
   ]
  },
  {
   "cell_type": "code",
   "execution_count": 2,
   "id": "709e2e49-6654-4920-98fe-f20130f4ef81",
   "metadata": {},
   "outputs": [],
   "source": [
    "conn = sqlite3.connect('log_data.db')"
   ]
  },
  {
   "cell_type": "code",
   "execution_count": 3,
   "id": "1b94f245-82e9-4679-8a3e-f5b516adae05",
   "metadata": {},
   "outputs": [],
   "source": [
    "cur = conn.cursor()"
   ]
  },
  {
   "cell_type": "code",
   "execution_count": null,
   "id": "b678bcc9-729c-4b7f-91e7-6f295ab99d8a",
   "metadata": {},
   "outputs": [],
   "source": [
    "\n",
    "query = "
   ]
  }
 ],
 "metadata": {
  "kernelspec": {
   "display_name": "Python 3",
   "language": "python",
   "name": "python3"
  },
  "language_info": {
   "codemirror_mode": {
    "name": "ipython",
    "version": 3
   },
   "file_extension": ".py",
   "mimetype": "text/x-python",
   "name": "python",
   "nbconvert_exporter": "python",
   "pygments_lexer": "ipython3",
   "version": "3.8.8"
  }
 },
 "nbformat": 4,
 "nbformat_minor": 5
}
